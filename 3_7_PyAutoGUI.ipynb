{
 "cells": [
  {
   "cell_type": "markdown",
   "metadata": {},
   "source": [
    "# PyAutoGUI\n",
    "엑셀이나 웹브라우저처럼 파이썬 전용 패키지가 없어서 조작을 할 수 없는 경우에 주로 사용  \n",
    "ex) SAP사의 ERP를 키보드와 마우스를 이용해 GUI 기반의 자동화\n",
    "\n",
    "### 모니터 크기(해상도)와 마우스 현재 위치 얻기\n",
    "`PyAutoGUI`는 모니터 화면의 가장 왼쪽 위 꼭지점을 영점 (0, 0)으로 하며, 픽셀 단위 x, y 좌표를 갖음"
   ]
  },
  {
   "cell_type": "code",
   "execution_count": 3,
   "metadata": {},
   "outputs": [
    {
     "name": "stdout",
     "output_type": "stream",
     "text": [
      "Size(width=1512, height=982)\n",
      "Point(x=602, y=-508)\n"
     ]
    }
   ],
   "source": [
    "import pyautogui\n",
    "\n",
    "# 현재 사용하는 모니터의 해상도 출력\n",
    "print(pyautogui.size())\n",
    "# 현재 마우스 커서의 위치 출력\n",
    "print(pyautogui.position())"
   ]
  },
  {
   "cell_type": "markdown",
   "metadata": {},
   "source": [
    "모니터가 여러개인 경우, 기본 모니터가 기준이 됨\n",
    "\n",
    "##### 마우스 현재 위치 & RGB 색상 실시간으로 얻기\n",
    "윈도우의 경우 RGB 값까지 출력되지만, 맥에서는 RGB 값을 받아 올 수 없음\n"
   ]
  },
  {
   "cell_type": "code",
   "execution_count": null,
   "metadata": {},
   "outputs": [],
   "source": [
    "pyautogui.mouseInfo()"
   ]
  },
  {
   "cell_type": "markdown",
   "metadata": {},
   "source": [
    "#### 마우스 이동\n",
    "1. 마우스 영점을 기준으로 좌표를 찍어 이동하는 *절대 이동*\n",
    "2. 현재 커서의 위치를 기준으로 지정한 만큼 이동하는 *상대 이동*"
   ]
  },
  {
   "cell_type": "code",
   "execution_count": 5,
   "metadata": {},
   "outputs": [],
   "source": [
    "# 절대 이동\n",
    "pyautogui.moveTo(100, 100)\n",
    "pyautogui.moveTo(200, 200, duration=0.5) # 0.5초간 이동"
   ]
  },
  {
   "cell_type": "code",
   "execution_count": 6,
   "metadata": {},
   "outputs": [],
   "source": [
    "# 상대 이동\n",
    "pyautogui.move(100, 100, duration=1)"
   ]
  },
  {
   "cell_type": "markdown",
   "metadata": {},
   "source": [
    "#### 마우스 클릭\n",
    "```python\n",
    "pyautogui.click(x=None, y=None, clicks=1, interval=0, button=PRIMARY, \n",
    "                duration=0, tween=linear, logScreenshot=None, _pause=True)\n",
    "```"
   ]
  },
  {
   "cell_type": "code",
   "execution_count": 8,
   "metadata": {},
   "outputs": [],
   "source": [
    "# 단순 클릭\n",
    "pyautogui.click()"
   ]
  },
  {
   "cell_type": "code",
   "execution_count": 10,
   "metadata": {},
   "outputs": [],
   "source": [
    "# 원하는 위치 클릭\n",
    "pyautogui.click(200, 200)"
   ]
  },
  {
   "cell_type": "code",
   "execution_count": 14,
   "metadata": {},
   "outputs": [],
   "source": [
    "# 클릭 횟수 & 좌/우클릭 설정\n",
    "pyautogui.click(clicks=2, interval=0.2, button=\"right\")"
   ]
  },
  {
   "cell_type": "code",
   "execution_count": 17,
   "metadata": {},
   "outputs": [],
   "source": [
    "# 마우스 드래그\n",
    "# 1초간 400, 400 위치로 이동 후, 절대 좌표 500, 500으로 2초간 드래그\n",
    "pyautogui.click(400, 400, duration=1)\n",
    "pyautogui.dragTo(500, 500, 2, button=\"left\")\n",
    "\n",
    "# 현재 마우스 위치 기준으로 300, 300 범위만큼 왼쪽 버튼으로 드래그\n",
    "pyautogui.dragRel(300, 300, 2, button=\"left\")"
   ]
  },
  {
   "cell_type": "code",
   "execution_count": 18,
   "metadata": {},
   "outputs": [],
   "source": [
    "# 스크롤 내리기/올리기\n",
    "pyautogui.scroll(-100)\n",
    "pyautogui.scroll(100)"
   ]
  },
  {
   "cell_type": "markdown",
   "metadata": {},
   "source": [
    "### 키보드 조작하기\n",
    "#### 문자 입력하기\n",
    "`write`와 `typewrite`는 이름만 다르고 같은 기능을 함"
   ]
  },
  {
   "cell_type": "code",
   "execution_count": 22,
   "metadata": {},
   "outputs": [],
   "source": [
    "pyautogui.click(124, -1060)\n",
    "pyautogui.click() # 맥에서 이상하게 클릭시 옵션이 같이 나와서 추가함\n",
    "\n",
    "pyautogui.write(\"Hello world!\", interval=0.2)\n",
    "pyautogui.write([\"H\", \"e\", \"l\", \"l\", \"o\"], interval=0.2)"
   ]
  },
  {
   "cell_type": "markdown",
   "metadata": {},
   "source": [
    "#### 개별 키 입력하기\n",
    "```python\n",
    "pyautogui.press(\"원하는 키\")\n",
    "```"
   ]
  },
  {
   "cell_type": "code",
   "execution_count": 32,
   "metadata": {},
   "outputs": [],
   "source": [
    "pyautogui.press(\"enter\")"
   ]
  },
  {
   "cell_type": "code",
   "execution_count": 26,
   "metadata": {},
   "outputs": [
    {
     "name": "stdout",
     "output_type": "stream",
     "text": [
      "['\\t', '\\n', '\\r', ' ', '!', '\"', '#', '$', '%', '&', \"'\", '(', ')', '*', '+', ',', '-', '.', '/', '0', '1', '2', '3', '4', '5', '6', '7', '8', '9', ':', ';', '<', '=', '>', '?', '@', '[', '\\\\', ']', '^', '_', '`', 'a', 'b', 'c', 'd', 'e', 'f', 'g', 'h', 'i', 'j', 'k', 'l', 'm', 'n', 'o', 'p', 'q', 'r', 's', 't', 'u', 'v', 'w', 'x', 'y', 'z', '{', '|', '}', '~', 'accept', 'add', 'alt', 'altleft', 'altright', 'apps', 'backspace', 'browserback', 'browserfavorites', 'browserforward', 'browserhome', 'browserrefresh', 'browsersearch', 'browserstop', 'capslock', 'clear', 'convert', 'ctrl', 'ctrlleft', 'ctrlright', 'decimal', 'del', 'delete', 'divide', 'down', 'end', 'enter', 'esc', 'escape', 'execute', 'f1', 'f10', 'f11', 'f12', 'f13', 'f14', 'f15', 'f16', 'f17', 'f18', 'f19', 'f2', 'f20', 'f21', 'f22', 'f23', 'f24', 'f3', 'f4', 'f5', 'f6', 'f7', 'f8', 'f9', 'final', 'fn', 'hanguel', 'hangul', 'hanja', 'help', 'home', 'insert', 'junja', 'kana', 'kanji', 'launchapp1', 'launchapp2', 'launchmail', 'launchmediaselect', 'left', 'modechange', 'multiply', 'nexttrack', 'nonconvert', 'num0', 'num1', 'num2', 'num3', 'num4', 'num5', 'num6', 'num7', 'num8', 'num9', 'numlock', 'pagedown', 'pageup', 'pause', 'pgdn', 'pgup', 'playpause', 'prevtrack', 'print', 'printscreen', 'prntscrn', 'prtsc', 'prtscr', 'return', 'right', 'scrolllock', 'select', 'separator', 'shift', 'shiftleft', 'shiftright', 'sleep', 'space', 'stop', 'subtract', 'tab', 'up', 'volumedown', 'volumemute', 'volumeup', 'win', 'winleft', 'winright', 'yen', 'command', 'option', 'optionleft', 'optionright']\n"
     ]
    }
   ],
   "source": [
    "print(pyautogui.KEYBOARD_KEYS)"
   ]
  },
  {
   "cell_type": "markdown",
   "metadata": {},
   "source": [
    "#### 조합 키 입력\n",
    "동시에 눌러줘야하는 경우"
   ]
  },
  {
   "cell_type": "code",
   "execution_count": 27,
   "metadata": {},
   "outputs": [],
   "source": [
    "# 붙여넣기 단축기\n",
    "pyautogui.hotkey(\"ctrl\", \"c\")"
   ]
  },
  {
   "cell_type": "markdown",
   "metadata": {},
   "source": [
    "#### 한글 입력\n",
    "`write` 함수로는 한글을 입력할 수 없음  \n",
    "-> `pyperclip` 패키지를 이용"
   ]
  },
  {
   "cell_type": "code",
   "execution_count": 37,
   "metadata": {},
   "outputs": [],
   "source": [
    "import pyperclip\n",
    "\n",
    "# 클립보드에 저장\n",
    "pyperclip.copy(\"파이오토지유아이\")\n",
    "# 클립보드에 있는 내용을 붙여넣기\n",
    "pyautogui.hotkey(\"command\", \"v\")"
   ]
  },
  {
   "cell_type": "markdown",
   "metadata": {},
   "source": [
    "### 화면 이미지 인식하기\n",
    "화면에서 찾고자 하는 이미지를 캡쳐&저장해놓고 그 이미지 좌표를 찾아가는 방법\n",
    "\n",
    "#### 캡처한 이미지로 좌표 정보 얻기"
   ]
  },
  {
   "cell_type": "code",
   "execution_count": 2,
   "metadata": {},
   "outputs": [
    {
     "name": "stdout",
     "output_type": "stream",
     "text": [
      "None\n"
     ]
    }
   ],
   "source": [
    "img_capture = pyautogui.locateOnScreen(\"../RPA/split_icon.png\")\n",
    "print(img_capture)\n",
    "pyautogui.click(img_capture)"
   ]
  },
  {
   "cell_type": "markdown",
   "metadata": {},
   "source": [
    "#### 캡처한 이미지가 화면에 여러개 일 때\n",
    "체크박스를 중복 선택하는 경우"
   ]
  },
  {
   "cell_type": "code",
   "execution_count": null,
   "metadata": {},
   "outputs": [],
   "source": [
    "for i in pyautogui.locateAllOnScreen(\"이미지\"):\n",
    "    pyautogui.click(i, duration=0.25)"
   ]
  },
  {
   "cell_type": "markdown",
   "metadata": {},
   "source": [
    "#### 범위 안에서만 캡처한 이미지를 찾고 싶을 때\n",
    "다른 영역에 있는 중복되는 이미지를 무시하고 싶거나, 이미지 검색 범위를 좁혀 속도를 개선하고 싶을 때 사용"
   ]
  },
  {
   "cell_type": "code",
   "execution_count": 3,
   "metadata": {},
   "outputs": [],
   "source": [
    "img_capture = pyautogui.locateOnScreen(\"./split_icon.png\", region=(1800, 0, 1920, 100))\n",
    "pyautogui.moveTo(img_capture)"
   ]
  },
  {
   "cell_type": "markdown",
   "metadata": {},
   "source": [
    "`openCV` 설치 이후, `confidence` 파라미터로 일치 정도를 지정해 줄 수 있음"
   ]
  },
  {
   "cell_type": "markdown",
   "metadata": {},
   "source": [
    "### 메시지 박스 띄우기\n",
    "작동중에 사용자의 확인이 필요하거나 문자 혹은 패스워드를 입력 받아야 하는 경우에 대처할 수 있는 메세지 박스 기능\n",
    "\n",
    "#### 알림창 - alert()\n",
    "[파라미터]\n",
    "- text : 원하는 메시지\n",
    "- title : 창 제목\n",
    "- button : 원하는 버튼 이름\n",
    "- timeout : msecond"
   ]
  },
  {
   "cell_type": "code",
   "execution_count": null,
   "metadata": {},
   "outputs": [],
   "source": [
    "pyautogui.alert(\"알림창을 발생 시킵니다\")"
   ]
  },
  {
   "cell_type": "code",
   "execution_count": 2,
   "metadata": {},
   "outputs": [
    {
     "name": "stdout",
     "output_type": "stream",
     "text": [
      "Timeout\n"
     ]
    }
   ],
   "source": [
    "alert = pyautogui.alert(\"알림창 테스트 내용\", title=\"테스트\", button=\"확인\", timeout=3000)\n",
    "print(alert)"
   ]
  },
  {
   "cell_type": "markdown",
   "metadata": {},
   "source": [
    "#### 확인창 - confirm()\n",
    "버튼 2개 중 하나를 선택  \n",
    "알림창과 파라미터 유사함"
   ]
  },
  {
   "cell_type": "code",
   "execution_count": 3,
   "metadata": {},
   "outputs": [
    {
     "data": {
      "text/plain": [
       "'OK'"
      ]
     },
     "execution_count": 3,
     "metadata": {},
     "output_type": "execute_result"
    }
   ],
   "source": [
    "pyautogui.confirm(\"계속 진행하시겠습니까?\")"
   ]
  },
  {
   "cell_type": "markdown",
   "metadata": {},
   "source": [
    "#### 텍스트 입력창 - prompt()\n",
    "[파라미터]\n",
    "- text : 원하는 메시지\n",
    "- title : 창 제목\n",
    "- default : 기본적으로 입력창에 입력된 문자열\n",
    "- timeout : msecond"
   ]
  },
  {
   "cell_type": "code",
   "execution_count": 4,
   "metadata": {},
   "outputs": [
    {
     "name": "stderr",
     "output_type": "stream",
     "text": [
      "2022-11-02 13:56:11.784 python[12446:112364] TSM AdjustCapsLockLEDForKeyTransitionHandling - _ISSetPhysicalKeyboardCapsLockLED Inhibit\n"
     ]
    }
   ],
   "source": [
    "text = pyautogui.prompt(\"원하는 메시지 입력\")"
   ]
  },
  {
   "cell_type": "markdown",
   "metadata": {},
   "source": [
    "#### 비밀번호 입력창 - password()\n",
    "텍스트 입력창과 동일하지만, 입력시 *로 마스킹 되어 보임  \n",
    "[파라미터]\n",
    "- text : 원하는 메시지\n",
    "- title : 창 제목\n",
    "- default : 기본적으로 입력창에 입력된 문자열\n",
    "- mask : 원하는 마스크 기호\n",
    "- timeout : msecond"
   ]
  },
  {
   "cell_type": "code",
   "execution_count": 6,
   "metadata": {},
   "outputs": [
    {
     "data": {
      "text/plain": [
       "'ddaa'"
      ]
     },
     "execution_count": 6,
     "metadata": {},
     "output_type": "execute_result"
    }
   ],
   "source": [
    "pyautogui.password()"
   ]
  },
  {
   "cell_type": "markdown",
   "metadata": {},
   "source": [
    "`OK` 버튼은 입력된 정보를 반환하지만, `Cancel` 버튼의 경우 `None`을 반환"
   ]
  }
 ],
 "metadata": {
  "kernelspec": {
   "display_name": "Python 3.8.13 ('Deep')",
   "language": "python",
   "name": "python3"
  },
  "language_info": {
   "codemirror_mode": {
    "name": "ipython",
    "version": 3
   },
   "file_extension": ".py",
   "mimetype": "text/x-python",
   "name": "python",
   "nbconvert_exporter": "python",
   "pygments_lexer": "ipython3",
   "version": "3.8.13"
  },
  "orig_nbformat": 4,
  "vscode": {
   "interpreter": {
    "hash": "2687cd7e348f8b276a3d3877a91949627292e389c8a2a645f881205e3ac80541"
   }
  }
 },
 "nbformat": 4,
 "nbformat_minor": 2
}
