{
 "cells": [
  {
   "cell_type": "markdown",
   "metadata": {},
   "source": [
    "# Win32com\n",
    "MS 오피스를 제어하기 위한 모듈  \n",
    "MS에서 제공하는 윈도우 프로그램을 파이썬으로 제어할 수 있도록 만든 API  \n",
    "\n",
    "#### Openpyxl과의 차이점\n",
    "1. `Win32com`은 엑셀 실행 상태에서 제어가 가능  \n",
    "    -> `openpyxl`은 엑셀 파일 실행 중 접근이 불가능\n",
    "\n",
    "2. 엑셀 기능적인 측면에서 접근 가능  \n",
    "    -> 엑셀 프로그램에서 사용하는 기능을 함수 하나로 대체하여 사용 가능"
   ]
  },
  {
   "cell_type": "code",
   "execution_count": 1,
   "metadata": {},
   "outputs": [],
   "source": [
    "import win32com.client"
   ]
  },
  {
   "cell_type": "code",
   "execution_count": 2,
   "metadata": {},
   "outputs": [],
   "source": [
    "# 엑셀 프로그램을 여는 과정\n",
    "excel = win32com.client.Dispatch(\"Excel.Application\")\n",
    "# 실행 과정을 시각적으로 표시\n",
    "excel.Visible = True"
   ]
  },
  {
   "cell_type": "code",
   "execution_count": 6,
   "metadata": {},
   "outputs": [],
   "source": [
    "# Workboob 및 Worksheet 객체 생성\n",
    "wb = excel.Workbooks.Add()\n",
    "ws = wb.Worksheets(\"sheet1\")"
   ]
  },
  {
   "cell_type": "code",
   "execution_count": null,
   "metadata": {},
   "outputs": [],
   "source": [
    "# 기존에 있는 엑셀 파일을 불러오는 방법\n",
    "wb = excel.Workbooks.Open(r\"엑셀 파일 경로\")"
   ]
  },
  {
   "cell_type": "markdown",
   "metadata": {},
   "source": [
    "### Cell 데이터 읽기/쓰기"
   ]
  },
  {
   "cell_type": "code",
   "execution_count": 7,
   "metadata": {},
   "outputs": [],
   "source": [
    "# 셀 row, col 값 지정해 값 넣기\n",
    "ws.cells(1, 1).Value = \"win32com excel test1\""
   ]
  },
  {
   "cell_type": "code",
   "execution_count": 8,
   "metadata": {},
   "outputs": [],
   "source": [
    "# range로 값 넣기\n",
    "ws.Range(\"A2\").Value = \"win32com excel test2\""
   ]
  },
  {
   "cell_type": "code",
   "execution_count": 9,
   "metadata": {},
   "outputs": [],
   "source": [
    "# range로 다중범위 지정해 값 넣기\n",
    "ws.Range(\"A3:C3\").Value = \"win32com excel test3\""
   ]
  },
  {
   "cell_type": "code",
   "execution_count": 11,
   "metadata": {},
   "outputs": [],
   "source": [
    "ws.Range(ws.Cells(4,1), ws.Cells(4,3)).Value = \"win32com excel test4\""
   ]
  },
  {
   "cell_type": "markdown",
   "metadata": {},
   "source": [
    "#### AutoFill: 자동 채우기"
   ]
  },
  {
   "cell_type": "code",
   "execution_count": 12,
   "metadata": {},
   "outputs": [
    {
     "data": {
      "text/plain": [
       "True"
      ]
     },
     "execution_count": 12,
     "metadata": {},
     "output_type": "execute_result"
    }
   ],
   "source": [
    "ws.Range(\"A1:A3\").AutoFill(ws.Range(\"A1:A10\")) # 기준열.범위"
   ]
  },
  {
   "cell_type": "markdown",
   "metadata": {},
   "source": [
    "### Cell 데이터 복사/붙여넣기"
   ]
  },
  {
   "cell_type": "code",
   "execution_count": 17,
   "metadata": {},
   "outputs": [],
   "source": [
    "ws.Range(\"A1:A10\").Copy()\n",
    "ws.Range(\"B1\").Select()\n",
    "ws.Paste()"
   ]
  },
  {
   "cell_type": "markdown",
   "metadata": {},
   "source": [
    "### 파일 저장하기"
   ]
  },
  {
   "cell_type": "code",
   "execution_count": 18,
   "metadata": {},
   "outputs": [],
   "source": [
    "# wb.Save()\n",
    "wb.SaveAs(r\"./win32com.xlsx\")"
   ]
  },
  {
   "cell_type": "markdown",
   "metadata": {},
   "source": [
    "### 엑셀 Application 닫기"
   ]
  },
  {
   "cell_type": "code",
   "execution_count": 18,
   "metadata": {},
   "outputs": [],
   "source": [
    "excel.Quit()"
   ]
  },
  {
   "cell_type": "markdown",
   "metadata": {},
   "source": [
    "### Cell 영역 선택\n"
   ]
  },
  {
   "cell_type": "code",
   "execution_count": 12,
   "metadata": {},
   "outputs": [],
   "source": [
    "import win32com.client\n",
    "\n",
    "excel = win32com.client.Dispatch(\"Excel.Application\")\n",
    "excel.Visible = True"
   ]
  },
  {
   "cell_type": "code",
   "execution_count": 13,
   "metadata": {},
   "outputs": [],
   "source": [
    "wb = excel.Workbooks.Open(\"./test.xlsx\")\n",
    "ws = wb.ActiveSheet"
   ]
  },
  {
   "cell_type": "markdown",
   "metadata": {},
   "source": [
    "#### Range\n",
    "엑셀 셀 영역을 선택할 수 있는 대표적인 방법"
   ]
  },
  {
   "cell_type": "code",
   "execution_count": 14,
   "metadata": {},
   "outputs": [
    {
     "data": {
      "text/plain": [
       "True"
      ]
     },
     "execution_count": 14,
     "metadata": {},
     "output_type": "execute_result"
    }
   ],
   "source": [
    "ws.Range(\"A1\").Select()"
   ]
  },
  {
   "cell_type": "code",
   "execution_count": 15,
   "metadata": {},
   "outputs": [
    {
     "data": {
      "text/plain": [
       "True"
      ]
     },
     "execution_count": 15,
     "metadata": {},
     "output_type": "execute_result"
    }
   ],
   "source": [
    "ws.Range(\"A1\", \"B2\").Select()"
   ]
  },
  {
   "cell_type": "code",
   "execution_count": 16,
   "metadata": {},
   "outputs": [
    {
     "data": {
      "text/plain": [
       "True"
      ]
     },
     "execution_count": 16,
     "metadata": {},
     "output_type": "execute_result"
    }
   ],
   "source": [
    "ws.Range(\"A2:B3\").Select()"
   ]
  },
  {
   "cell_type": "code",
   "execution_count": 17,
   "metadata": {},
   "outputs": [
    {
     "data": {
      "text/plain": [
       "((pywintypes.datetime(2021, 6, 8, 0, 0, tzinfo=TimeZoneInfo('GMT Standard Time', True)),\n",
       "  '식비'),\n",
       " (pywintypes.datetime(2021, 6, 8, 0, 0, tzinfo=TimeZoneInfo('GMT Standard Time', True)),\n",
       "  '식비'))"
      ]
     },
     "execution_count": 17,
     "metadata": {},
     "output_type": "execute_result"
    }
   ],
   "source": [
    "# 특정 영역의 값을 실제로 출력\n",
    "ws.Range(\"A2:B3\").value"
   ]
  },
  {
   "cell_type": "markdown",
   "metadata": {},
   "source": [
    "튜플 형식으로 선택 영역이 출력 됨\n",
    "\n",
    "#### UsedRange\n",
    "`WorkSheet` 객체의 사용된 영역을 모두 선택"
   ]
  },
  {
   "cell_type": "code",
   "execution_count": 21,
   "metadata": {},
   "outputs": [],
   "source": [
    "import win32com.client\n",
    "\n",
    "excel = win32com.client.Dispatch(\"Excel.Application\")\n",
    "excel.Visible = True\n",
    "\n",
    "wb = excel.Workbooks.Open(\"./test.xlsx\")\n",
    "ws = wb.ActiveSheet"
   ]
  },
  {
   "cell_type": "code",
   "execution_count": 23,
   "metadata": {},
   "outputs": [
    {
     "data": {
      "text/plain": [
       "(('text1', 'text2', 'text3'),\n",
       " ('text4', None, 'text5'),\n",
       " (None, 'text6', None),\n",
       " (None, None, None),\n",
       " (None, None, None),\n",
       " (None, None, None),\n",
       " (None, None, None),\n",
       " (None, None, None))"
      ]
     },
     "execution_count": 23,
     "metadata": {},
     "output_type": "execute_result"
    }
   ],
   "source": [
    "ws.UsedRange()"
   ]
  },
  {
   "cell_type": "code",
   "execution_count": 25,
   "metadata": {},
   "outputs": [
    {
     "name": "stdout",
     "output_type": "stream",
     "text": [
      "A1 val: text2\n",
      "B3 val: text5\n"
     ]
    }
   ],
   "source": [
    "print(f\"A1 val: {ws.UsedRange()[0][1]}\")\n",
    "print(f\"B3 val: {ws.UsedRange()[1][2]}\")"
   ]
  },
  {
   "cell_type": "code",
   "execution_count": 26,
   "metadata": {},
   "outputs": [
    {
     "data": {
      "text/plain": [
       "True"
      ]
     },
     "execution_count": 26,
     "metadata": {},
     "output_type": "execute_result"
    }
   ],
   "source": [
    "# 해당 영역을 직접 선택 처리하는 코드\n",
    "ws.UsedRange.Select()"
   ]
  },
  {
   "cell_type": "markdown",
   "metadata": {},
   "source": [
    "데이터가 입력되어있는 것 뿐만 아니라, 셀 서식이 적용되어있거나 셀의 행/열 높이가 수정 된 경우에도 사용 영역으로 인식\n",
    "\n",
    "#### CurrentRegion\n",
    "`UsedRange`는 WorkSheet 객체가 대상이 되지만, `CurrentRegion`은 `Range`임"
   ]
  },
  {
   "cell_type": "code",
   "execution_count": 28,
   "metadata": {},
   "outputs": [
    {
     "data": {
      "text/plain": [
       "True"
      ]
     },
     "execution_count": 28,
     "metadata": {},
     "output_type": "execute_result"
    }
   ],
   "source": [
    "ws.Range(\"A:C\").CurrentRegion.Select()"
   ]
  },
  {
   "cell_type": "code",
   "execution_count": 34,
   "metadata": {},
   "outputs": [
    {
     "data": {
      "text/plain": [
       "True"
      ]
     },
     "execution_count": 34,
     "metadata": {},
     "output_type": "execute_result"
    }
   ],
   "source": [
    "ws.UsedRange.CurrentRegion.Select()"
   ]
  },
  {
   "cell_type": "markdown",
   "metadata": {},
   "source": [
    "`CurrentRegion`은 사용 영역의 첫 번째 영역을 기준으로 연속된 영역만을 선택\n",
    "\n",
    "#### SpecialCells\n",
    "특정 조건을 만족하는 셀을 선택  \n",
    "- 데이터만 있는 셀 선택\n",
    "- 빈 공간 선택"
   ]
  },
  {
   "cell_type": "code",
   "execution_count": 35,
   "metadata": {},
   "outputs": [
    {
     "data": {
      "text/plain": [
       "True"
      ]
     },
     "execution_count": 35,
     "metadata": {},
     "output_type": "execute_result"
    }
   ],
   "source": [
    "ws.UsedRange.SpecialCells(12).Select()"
   ]
  },
  {
   "cell_type": "markdown",
   "metadata": {},
   "source": [
    "12는 옵션으로, 데이터가 있는 연속 된 영역을 모두 선택하는 옵션"
   ]
  },
  {
   "cell_type": "code",
   "execution_count": 37,
   "metadata": {},
   "outputs": [
    {
     "data": {
      "text/plain": [
       "(('text1', 'text2', 'text3', None, None),\n",
       " ('text4', None, 'text5', None, None),\n",
       " (None, 'text6', None, 'text8', 'text7'),\n",
       " (None, None, None, None, None),\n",
       " (None, None, None, None, None),\n",
       " (None, None, None, None, None),\n",
       " (None, None, None, None, None),\n",
       " (None, None, None, None, None))"
      ]
     },
     "execution_count": 37,
     "metadata": {},
     "output_type": "execute_result"
    }
   ],
   "source": [
    "ws.UsedRange.SpecialCells(12).Value"
   ]
  },
  {
   "cell_type": "code",
   "execution_count": 38,
   "metadata": {},
   "outputs": [
    {
     "data": {
      "text/plain": [
       "True"
      ]
     },
     "execution_count": 38,
     "metadata": {},
     "output_type": "execute_result"
    }
   ],
   "source": [
    "# 데이터가 없는 빈 셀만 선택\n",
    "ws.UsedRange.SpecialCells(4).Select()"
   ]
  },
  {
   "cell_type": "code",
   "execution_count": 39,
   "metadata": {},
   "outputs": [
    {
     "data": {
      "text/plain": [
       "True"
      ]
     },
     "execution_count": 39,
     "metadata": {},
     "output_type": "execute_result"
    }
   ],
   "source": [
    "# 마지막 셀 선택\n",
    "ws.UsedRange.SpecialCells(11).Select()"
   ]
  },
  {
   "cell_type": "markdown",
   "metadata": {},
   "source": [
    "### Sheet 제어\n",
    "`OpenPyxl`과는 달리, 파일간 시트 이동/복사가 가능해짐\n",
    "\n",
    "#### 시트 생성 및 설정\n",
    "모듈을 임포트하고 엑셀 프로그램을 변수로 바인딩하는 과정이 필수"
   ]
  },
  {
   "cell_type": "code",
   "execution_count": 52,
   "metadata": {},
   "outputs": [],
   "source": [
    "import win32com.client\n",
    "\n",
    "excel = win32com.client.Dispatch(\"Excel.Application\")\n",
    "excel.Visible = True"
   ]
  },
  {
   "cell_type": "code",
   "execution_count": 53,
   "metadata": {},
   "outputs": [],
   "source": [
    "wb1 = excel.Workbooks.Open(\"data1.xlsx\")\n",
    "ws1 = wb1.Worksheets.Add()"
   ]
  },
  {
   "cell_type": "code",
   "execution_count": 54,
   "metadata": {},
   "outputs": [],
   "source": [
    "ws2 = wb1.Worksheets.Add()"
   ]
  },
  {
   "cell_type": "code",
   "execution_count": 56,
   "metadata": {},
   "outputs": [],
   "source": [
    "# 현재 활성화되어 있는 시트를 객체로 설정\n",
    "ws3 = wb1.ActiveSheet"
   ]
  },
  {
   "cell_type": "code",
   "execution_count": 60,
   "metadata": {},
   "outputs": [],
   "source": [
    "# 특정 시트명으로 접근\n",
    "ws4 = wb1.Worksheets(\"Sheet1\")"
   ]
  },
  {
   "cell_type": "markdown",
   "metadata": {},
   "source": [
    "#### 시트 복사/이동하기"
   ]
  },
  {
   "cell_type": "code",
   "execution_count": 62,
   "metadata": {},
   "outputs": [],
   "source": [
    "# 기존 엑셀 파일\n",
    "wb1 = excel.Workbooks.Open(\"data1.xlsx\")\n",
    "# 시트를 옮길 엑셀 파일\n",
    "wb2 = excel.Workbooks.Open(\"data2.xlsx\")"
   ]
  },
  {
   "cell_type": "code",
   "execution_count": 63,
   "metadata": {},
   "outputs": [],
   "source": [
    "wb1.Worksheets(\"test\").Copy(Before=wb2.Worksheets(\"Sheet1\"))"
   ]
  },
  {
   "cell_type": "markdown",
   "metadata": {},
   "source": [
    "`before`와 `after` 파라미터로 특정 시트 전후로 복사 위치를 지정 할 수 있음  \n",
    "\n",
    "\n",
    "시트 이동은 `move`를 사용"
   ]
  },
  {
   "cell_type": "code",
   "execution_count": 64,
   "metadata": {},
   "outputs": [],
   "source": [
    "wb1.Worksheets(\"test\").Move(After=wb2.Worksheets(\"Sheet1\"))"
   ]
  },
  {
   "cell_type": "markdown",
   "metadata": {},
   "source": [
    "#### 시트 삭제"
   ]
  },
  {
   "cell_type": "code",
   "execution_count": 65,
   "metadata": {},
   "outputs": [],
   "source": [
    "ws = wb1.Worksheets(\"Sheet1\")\n",
    "ws.Delete()"
   ]
  },
  {
   "cell_type": "code",
   "execution_count": 67,
   "metadata": {},
   "outputs": [],
   "source": [
    "wb2.Worksheets(\"Sheet1\").Delete()"
   ]
  },
  {
   "cell_type": "markdown",
   "metadata": {},
   "source": [
    "#### 시트 탭 속성 설정 "
   ]
  },
  {
   "cell_type": "code",
   "execution_count": 68,
   "metadata": {},
   "outputs": [],
   "source": [
    "ws = wb1.Worksheets(\"Sheet2\")\n",
    "ws.Name = \"시트 이름 바꾸기\""
   ]
  },
  {
   "cell_type": "code",
   "execution_count": 69,
   "metadata": {},
   "outputs": [],
   "source": [
    "# 색상 바꾸기\n",
    "ws.Tab.ColorIndex = 30"
   ]
  },
  {
   "cell_type": "markdown",
   "metadata": {},
   "source": [
    "색상의 경우, 엑셀 `ColorIndex`를 이용\n",
    "\n",
    "### 엑셀 서식 지정\n",
    "#### Font Style"
   ]
  },
  {
   "cell_type": "code",
   "execution_count": 72,
   "metadata": {},
   "outputs": [],
   "source": [
    "ws.Range(ws.Cells(1,1), ws.Cells(1, 3)).value = \"win32com excel 서식(font style)\"\n",
    "ws.Range(\"A2:B2\").value = \"win32com excel 서식(font 색상)\"\n",
    "ws.Range(\"A3\").value = \"win32com excel 서식(cell 색상)\""
   ]
  },
  {
   "cell_type": "code",
   "execution_count": 74,
   "metadata": {},
   "outputs": [],
   "source": [
    "# font size 및 font 굵게, 글씨체\n",
    "# \"A1\" 글씨체 변경\n",
    "ws.Cells(1,1).Font.name = \"굴림\"\n",
    "# \"B2\" 글씨 사이즈 변경\n",
    "ws.Cells(1,2).Font.Size = 14\n",
    "# \"C3\" 글씨 스타일 변경 (Bold, Italic, Underline)\n",
    "ws.Cells(1,3).Font.Bold = True\n",
    "ws.Cells(1,3).Font.Italic = True\n",
    "ws.Cells(1,3).Font.Underline = True"
   ]
  },
  {
   "cell_type": "markdown",
   "metadata": {},
   "source": [
    "#### Font Color\n",
    "`ColorIndex`를 통해 색상을 지정 할 수 있음"
   ]
  },
  {
   "cell_type": "code",
   "execution_count": 75,
   "metadata": {},
   "outputs": [],
   "source": [
    "ws.Range(\"A2\").Font.ColorIndex = 40\n",
    "ws.Range(\"B2\").Font.ColorIndex = 50"
   ]
  },
  {
   "cell_type": "markdown",
   "metadata": {},
   "source": [
    "#### Cell 서식: 색상, 테두리, 정렬\n",
    "##### 셀 색상"
   ]
  },
  {
   "cell_type": "code",
   "execution_count": 76,
   "metadata": {},
   "outputs": [],
   "source": [
    "ws.Range(\"A3\").Interior.ColorIndex = 30"
   ]
  },
  {
   "cell_type": "markdown",
   "metadata": {},
   "source": [
    "##### 셀 테두리 지정"
   ]
  },
  {
   "cell_type": "code",
   "execution_count": 82,
   "metadata": {},
   "outputs": [
    {
     "data": {
      "text/plain": [
       "True"
      ]
     },
     "execution_count": 82,
     "metadata": {},
     "output_type": "execute_result"
    }
   ],
   "source": [
    "# Weight: 선 굵기, LineStyle: 1(실선) 2(짧은점선) 3(긴점선)\n",
    "# 외곽 테두리\n",
    "ws.Range(\"A1:C3\").BorderAround(ColorIndex=1, Weight=2, LineStyle=1)"
   ]
  },
  {
   "cell_type": "code",
   "execution_count": 81,
   "metadata": {},
   "outputs": [],
   "source": [
    "# 선택 영역 안쪽까지 지정하는 방법\n",
    "rng = ws.Range(\"A1:C3\")\n",
    "rng.Borders.LineStyle = 2\n",
    "rng.Borders.ColorIndex = 14\n",
    "rng.Borders.Weight = 2"
   ]
  },
  {
   "cell_type": "markdown",
   "metadata": {},
   "source": [
    "##### 정렬"
   ]
  },
  {
   "cell_type": "code",
   "execution_count": 85,
   "metadata": {},
   "outputs": [],
   "source": [
    "# 행, 열 크기 조정\n",
    "rng = ws.UsedRange\n",
    "rng.RowHeight = 70\n",
    "rng.ColumnWidth = 30\n",
    "# 테두리 설정\n",
    "rng.Borders.LineStyle = 1\n",
    "rng.Borders.ColorIndex = 1\n",
    "rng.Borders.Weight = 2"
   ]
  },
  {
   "cell_type": "code",
   "execution_count": 86,
   "metadata": {},
   "outputs": [],
   "source": [
    "# \"B1\"\n",
    "ws.Range(\"B1\").VerticalAlignment = -4160 # 위로 정렬\n",
    "ws.Range(\"B1\").HorizontalAlignment = -4108 # 가운데 정렬\n",
    "# \"B3\"\n",
    "ws.Range(\"B3\").VerticalAlignment = -4107 # 아래로 정렬\n",
    "ws.Range(\"B3\").HorizontalAlignment = -4108\n",
    "# \"A2\"\n",
    "ws.Range(\"A2\").VerticalAlignment = -4108 # 가운데 정렬 (수직)\n",
    "ws.Range(\"A2\").HorizontalAlignment = -4131 # 왼쪽으로 정렬\n",
    "# \"C2\"\n",
    "ws.Range(\"C2\").VerticalAlignment = -4108\n",
    "ws.Range(\"C2\").HorizontalAlignment = -4152 # 오른쪽으로 정렬\n",
    "# \"B2\"\n",
    "ws.Range(\"B2\").VerticalAlignment = -4108\n",
    "ws.Range(\"B2\").HorizontalAlignment = -4108"
   ]
  },
  {
   "cell_type": "markdown",
   "metadata": {},
   "source": [
    "각 설정 값들은 공식 문서에서 찾아 사용 할 수 있음  \n",
    "\n",
    "##### VerticalAlignment\n",
    "| Name | Value | Description |\n",
    "| :---: | :---: | :---: |\n",
    "| xlVAlignBottom | -4107 | Bottom |\n",
    "| xlVAlignCenter | -4108 | Center |\n",
    "| xlVAlignDistributed | -4117 | Distributed |\n",
    "| xlVAlignJustify | -4130 | Justify |\n",
    "| xlVAlignTop | -4160 | Top |\n",
    "\n",
    "##### HorizontalAlignment\n",
    "| Name | Value | Description |\n",
    "| :---: | :---: | :---: |\n",
    "| xlHAlingCenter | -4108 | Center. |\n",
    "| xlHAlignCenterAcrossSelection | 7 | Center across selection. |\n",
    "| xlHAlignDistributed | -4117 | Distribute. |\n",
    "| xlHAlignFill | 5 | Fill. |\n",
    "| xlHAlignGeneral | 1 | Align according to data type |\n",
    "| xlHAlignJustify | -4130 | Justify. |\n",
    "| xlHAlignLeft | -4131 | Left. |\n",
    "| xlHAlignRight | -4152 | Right. |"
   ]
  },
  {
   "cell_type": "markdown",
   "metadata": {},
   "source": [
    "#### Font, Cell 서식 지우기\n",
    "- `ClearFormats()`: 선택한 영역의 서식 삭제\n",
    "- `Clear()`: 서식 및 내용 모두 삭제\n",
    "- `ClearContents()`: 내용만 삭제"
   ]
  },
  {
   "cell_type": "code",
   "execution_count": 87,
   "metadata": {},
   "outputs": [
    {
     "data": {
      "text/plain": [
       "True"
      ]
     },
     "execution_count": 87,
     "metadata": {},
     "output_type": "execute_result"
    }
   ],
   "source": [
    "ws = wb.ActiveSheet\n",
    "ws.Range(\"A1:C3\").ClearFormats()"
   ]
  },
  {
   "cell_type": "markdown",
   "metadata": {},
   "source": [
    "### 차트 다루기"
   ]
  },
  {
   "cell_type": "code",
   "execution_count": 106,
   "metadata": {},
   "outputs": [],
   "source": [
    "# 빈 차트 양식 생성\n",
    "ws.Shapes.AddChart().Select()"
   ]
  },
  {
   "cell_type": "code",
   "execution_count": 107,
   "metadata": {},
   "outputs": [],
   "source": [
    "# 데이터 영역 설정\n",
    "excel.ActiveChart.SetSourceData(Source=ws.Range(\"A1:B9\"))"
   ]
  },
  {
   "cell_type": "markdown",
   "metadata": {},
   "source": [
    "#### 차트 형식 설정\n",
    "`XIChartType Enumeration` 문서를 통해 차트 확인 가능"
   ]
  },
  {
   "cell_type": "code",
   "execution_count": 108,
   "metadata": {},
   "outputs": [],
   "source": [
    "# 꺾은선 차트\n",
    "chart = ws.Shapes.AddChart(65).Select()\n",
    "\n",
    "excel.ActiveChart.SetSourceData(Source=ws.Range(\"A1:B9\"))"
   ]
  },
  {
   "cell_type": "markdown",
   "metadata": {},
   "source": [
    "#### 차트 위치 및 크기 설정\n",
    "```\n",
    "AddChart(차트타입, x축 위치, y축 위치, 가로 크기, 세로 크기)\n",
    "```"
   ]
  },
  {
   "cell_type": "code",
   "execution_count": 109,
   "metadata": {},
   "outputs": [],
   "source": [
    "chart = ws.Shapes.AddChart(4, 100, 100, 200, 200).Select()\n",
    "excel.ActiveChart.SetSourceData(Source=ws.Range(\"A1:B9\"))"
   ]
  },
  {
   "cell_type": "markdown",
   "metadata": {},
   "source": [
    "#### 차트 제목 및 범례 설정"
   ]
  },
  {
   "cell_type": "code",
   "execution_count": 110,
   "metadata": {},
   "outputs": [],
   "source": [
    "# 제목 설정\n",
    "# 제목 보이게\n",
    "excel.ActiveChart.HasTitle = True\n",
    "# 제목 설정\n",
    "excel.ActiveChart.ChartTitle.Text = \"국어 과목\"\n",
    "# 제목 글씨 크기\n",
    "excel.ActiveChart.ChartTitle.Characters.Font.Size = 14\n",
    "# 제목 색상\n",
    "excel.ActiveChart.ChartTitle.Characters.Font.ColorIndex = 5\n",
    "# 글씨체\n",
    "excel.ActiveChart.ChartTitle.Characters.Font.Bold = True"
   ]
  },
  {
   "cell_type": "code",
   "execution_count": 111,
   "metadata": {},
   "outputs": [],
   "source": [
    "# 범례 설정\n",
    "# 범례 보이게\n",
    "excel.ActiveChart.HasLegend = True\n",
    "# 범례 글씨 크기\n",
    "excel.ActiveChart.Legend.Font.Size = 15\n",
    "# 범례 굵게\n",
    "excel.ActiveChart.Legend.Font.Bold = True\n",
    "# 범례 색상 설정\n",
    "excel.ActiveChart.Legend.Font.ColorIndex = 5"
   ]
  },
  {
   "cell_type": "markdown",
   "metadata": {},
   "source": [
    "### 파일 저장 옵션\n",
    "엑셀 파일을 필요한 시트만 저장하거나, pdf 파일 등 다른 형식의 파일로 저장  \n",
    "- `Save()`\n",
    "- `SaveAs()`\n",
    "- `ExportAsFixedFormat()`\n",
    "\n",
    "#### Save\n",
    "\"통합문서\"라는 이름으로 파일을 저장함"
   ]
  },
  {
   "cell_type": "code",
   "execution_count": 112,
   "metadata": {},
   "outputs": [],
   "source": [
    "import win32com.client\n",
    "\n",
    "excel = win32com.client.Dispatch(\"Excel.Application\")\n",
    "excel.Visible = True\n",
    "\n",
    "wb = excel.Workbooks.Add()"
   ]
  },
  {
   "cell_type": "code",
   "execution_count": 113,
   "metadata": {},
   "outputs": [],
   "source": [
    "wb.Save()"
   ]
  },
  {
   "cell_type": "markdown",
   "metadata": {},
   "source": [
    "#### SaveAs\n",
    "다른 이름으로 저장하기\n",
    "```\n",
    "SaveAs(파일명, 파일포맷, 비밀번호, ...)\n",
    "```"
   ]
  },
  {
   "cell_type": "code",
   "execution_count": 114,
   "metadata": {},
   "outputs": [],
   "source": [
    "path = r\"C:\\Users\\spec3\\OneDrive\\바탕 화면\\dev\\RPA\"\n",
    "\n",
    "wb.SaveAs(path+\"/test.xlsx\")"
   ]
  },
  {
   "cell_type": "code",
   "execution_count": 116,
   "metadata": {},
   "outputs": [],
   "source": [
    "# CSV 형식으로 저장\n",
    "wb.SaveAs(path+\"/test\", 6)"
   ]
  },
  {
   "cell_type": "markdown",
   "metadata": {},
   "source": [
    "#### ExportAsFixedFormat\n",
    "```\n",
    "ExportAsFixedFormat(Type, FileName, From, To)\n",
    "```\n",
    "\n",
    "From은 해당 엑셀 시트에서 저장할 시작 페이지를, To는 해당 엑셀 시트에서 저장할 마지막 페이지를 의미"
   ]
  },
  {
   "cell_type": "code",
   "execution_count": 118,
   "metadata": {},
   "outputs": [],
   "source": [
    "ws = wb.ActiveSheet\n",
    "\n",
    "ws.ExportAsFixedFormat(Type=0, Filename=path+\"/test.pdf\", From=1, To=1)"
   ]
  }
 ],
 "metadata": {
  "kernelspec": {
   "display_name": "Python 3.7.13 ('auto')",
   "language": "python",
   "name": "python3"
  },
  "language_info": {
   "codemirror_mode": {
    "name": "ipython",
    "version": 3
   },
   "file_extension": ".py",
   "mimetype": "text/x-python",
   "name": "python",
   "nbconvert_exporter": "python",
   "pygments_lexer": "ipython3",
   "version": "3.7.13"
  },
  "orig_nbformat": 4,
  "vscode": {
   "interpreter": {
    "hash": "dc50a67e814ec69e50f4baabb47540832735f761766bafdbd304f349916f94b2"
   }
  }
 },
 "nbformat": 4,
 "nbformat_minor": 2
}
