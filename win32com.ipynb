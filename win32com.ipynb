{
 "cells": [
  {
   "cell_type": "markdown",
   "metadata": {},
   "source": [
    "# Win32com\n",
    "MS 오피스를 제어하기 위한 모듈  \n",
    "MS에서 제공하는 윈도우 프로그램을 파이썬으로 제어할 수 있도록 만든 API  \n",
    "\n",
    "#### Openpyxl과의 차이점\n",
    "`Win32com`은 엑셀 실행 상태에서 제어가 가능  \n",
    "-> `openpyxl`은 엑셀 파일 실행 중 접근이 불가능"
   ]
  }
 ],
 "metadata": {
  "kernelspec": {
   "display_name": "Python 3.7.13 ('auto')",
   "language": "python",
   "name": "python3"
  },
  "language_info": {
   "name": "python",
   "version": "3.7.13"
  },
  "orig_nbformat": 4,
  "vscode": {
   "interpreter": {
    "hash": "dc50a67e814ec69e50f4baabb47540832735f761766bafdbd304f349916f94b2"
   }
  }
 },
 "nbformat": 4,
 "nbformat_minor": 2
}
