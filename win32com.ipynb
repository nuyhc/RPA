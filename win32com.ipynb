{
 "cells": [
  {
   "cell_type": "markdown",
   "metadata": {},
   "source": [
    "# Win32com\n",
    "MS 오피스를 제어하기 위한 모듈  \n",
    "MS에서 제공하는 윈도우 프로그램을 파이썬으로 제어할 수 있도록 만든 API  \n",
    "\n",
    "#### Openpyxl과의 차이점\n",
    "1. `Win32com`은 엑셀 실행 상태에서 제어가 가능  \n",
    "    -> `openpyxl`은 엑셀 파일 실행 중 접근이 불가능\n",
    "\n",
    "2. 엑셀 기능적인 측면에서 접근 가능  \n",
    "    -> 엑셀 프로그램에서 사용하는 기능을 함수 하나로 대체하여 사용 가능"
   ]
  },
  {
   "cell_type": "code",
   "execution_count": 4,
   "metadata": {},
   "outputs": [],
   "source": [
    "import win32com.client"
   ]
  },
  {
   "cell_type": "code",
   "execution_count": 5,
   "metadata": {},
   "outputs": [],
   "source": [
    "# 엑셀 프로그램을 여는 과정\n",
    "excel = win32com.client.Dispatch(\"Excel.Application\")\n",
    "# 실행 과정을 시각적으로 표시\n",
    "excel.Visible = True"
   ]
  },
  {
   "cell_type": "code",
   "execution_count": 6,
   "metadata": {},
   "outputs": [],
   "source": [
    "# Workboob 및 Worksheet 객체 생성\n",
    "wb = excel.Workbooks.Add()\n",
    "ws = wb.Worksheets(\"sheet1\")"
   ]
  },
  {
   "cell_type": "code",
   "execution_count": null,
   "metadata": {},
   "outputs": [],
   "source": [
    "# 기존에 있는 엑셀 파일을 불러오는 방법\n",
    "wb = excel.Workbooks.Open(r\"엑셀 파일 경로\")"
   ]
  },
  {
   "cell_type": "markdown",
   "metadata": {},
   "source": [
    "### Cell 데이터 읽기/쓰기"
   ]
  },
  {
   "cell_type": "code",
   "execution_count": 7,
   "metadata": {},
   "outputs": [],
   "source": [
    "# 셀 row, col 값 지정해 값 넣기\n",
    "ws.cells(1, 1).Value = \"win32com excel test1\""
   ]
  },
  {
   "cell_type": "code",
   "execution_count": 8,
   "metadata": {},
   "outputs": [],
   "source": [
    "# range로 값 넣기\n",
    "ws.Range(\"A2\").Value = \"win32com excel test2\""
   ]
  },
  {
   "cell_type": "code",
   "execution_count": 9,
   "metadata": {},
   "outputs": [],
   "source": [
    "# range로 다중범위 지정해 값 넣기\n",
    "ws.Range(\"A3:C3\").Value = \"win32com excel test3\""
   ]
  },
  {
   "cell_type": "code",
   "execution_count": 11,
   "metadata": {},
   "outputs": [],
   "source": [
    "ws.Range(ws.Cells(4,1), ws.Cells(4,3)).Value = \"win32com excel test4\""
   ]
  },
  {
   "cell_type": "markdown",
   "metadata": {},
   "source": [
    "#### AutoFill: 자동 채우기"
   ]
  },
  {
   "cell_type": "code",
   "execution_count": 12,
   "metadata": {},
   "outputs": [
    {
     "data": {
      "text/plain": [
       "True"
      ]
     },
     "execution_count": 12,
     "metadata": {},
     "output_type": "execute_result"
    }
   ],
   "source": [
    "ws.Range(\"A1:A3\").AutoFill(ws.Range(\"A1:A10\")) # 기준열.범위"
   ]
  },
  {
   "cell_type": "markdown",
   "metadata": {},
   "source": [
    "### Cell 데이터 복사/붙여넣기"
   ]
  },
  {
   "cell_type": "code",
   "execution_count": 17,
   "metadata": {},
   "outputs": [],
   "source": [
    "ws.Range(\"A1:A10\").Copy()\n",
    "ws.Range(\"B1\").Select()\n",
    "ws.Paste()"
   ]
  },
  {
   "cell_type": "markdown",
   "metadata": {},
   "source": [
    "### 파일 저장하기"
   ]
  },
  {
   "cell_type": "code",
   "execution_count": 18,
   "metadata": {},
   "outputs": [],
   "source": [
    "# wb.Save()\n",
    "wb.SaveAs(r\"./win32com.xlsx\")"
   ]
  },
  {
   "cell_type": "markdown",
   "metadata": {},
   "source": [
    "#### 엑셀 Application 닫기"
   ]
  },
  {
   "cell_type": "code",
   "execution_count": 19,
   "metadata": {},
   "outputs": [],
   "source": [
    "excel.Quit()"
   ]
  },
  {
   "cell_type": "markdown",
   "metadata": {},
   "source": [
    "### Cell 영역 선택"
   ]
  }
 ],
 "metadata": {
  "kernelspec": {
   "display_name": "Python 3.7.13 ('auto')",
   "language": "python",
   "name": "python3"
  },
  "language_info": {
   "codemirror_mode": {
    "name": "ipython",
    "version": 3
   },
   "file_extension": ".py",
   "mimetype": "text/x-python",
   "name": "python",
   "nbconvert_exporter": "python",
   "pygments_lexer": "ipython3",
   "version": "3.7.13"
  },
  "orig_nbformat": 4,
  "vscode": {
   "interpreter": {
    "hash": "dc50a67e814ec69e50f4baabb47540832735f761766bafdbd304f349916f94b2"
   }
  }
 },
 "nbformat": 4,
 "nbformat_minor": 2
}
