{
 "cells": [
  {
   "cell_type": "markdown",
   "metadata": {},
   "source": [
    "# 기타 유용한 패키지\n",
    "### zipfile 압축/해제"
   ]
  },
  {
   "cell_type": "code",
   "execution_count": 3,
   "metadata": {},
   "outputs": [],
   "source": [
    "import zipfile\n",
    "import os"
   ]
  },
  {
   "cell_type": "markdown",
   "metadata": {},
   "source": [
    "#### 압축하기\n",
    "1. 압축하고자하는 zip 파일 생성\n",
    "2. 파일에 넣고 싶은 파일 write\n",
    "3. zip 파일 닫기\n",
    "\n",
    "##### 하나의 파일 압축하기\n",
    "zip 파일을 위해 따로 폴더를 만들어 줄 필요는 없음 -> 곧 바로 zip 파일이 생성 됨"
   ]
  },
  {
   "cell_type": "code",
   "execution_count": 4,
   "metadata": {},
   "outputs": [],
   "source": [
    "# step 1. 압축 파일 생성하기\n",
    "my_zip = zipfile.ZipFile(\"압축 테스트.zip\", \"w\")"
   ]
  },
  {
   "cell_type": "code",
   "execution_count": 5,
   "metadata": {},
   "outputs": [],
   "source": [
    "# step 2. zip 파일에 넣고자하는 파일 입력하기\n",
    "# 절대 경로 이용시 이상하게 동작\n",
    "my_zip.write(\"./test.txt\")"
   ]
  },
  {
   "cell_type": "code",
   "execution_count": 6,
   "metadata": {},
   "outputs": [],
   "source": [
    "# step 3. zip 파일 닫기\n",
    "my_zip.close()"
   ]
  },
  {
   "cell_type": "markdown",
   "metadata": {},
   "source": [
    "##### 여러개의 파일 압축하기"
   ]
  },
  {
   "cell_type": "code",
   "execution_count": null,
   "metadata": {},
   "outputs": [],
   "source": [
    "file_list = []\n",
    "\n",
    "with zipfile.ZipFile(\"생성한 zip 파일\", \"w\") as my_zip:\n",
    "    for i in file_list:\n",
    "        my_zip.write(i)\n",
    "    my_zip.close()"
   ]
  },
  {
   "cell_type": "markdown",
   "metadata": {},
   "source": [
    "#### 압축 해제\n",
    "##### 개별 파일 압축 해제\n",
    "`zipfile.ZipFile(파일명).extract(member, path=None, pwd=None)`  \n",
    "\n",
    "##### 모든 파일 압축 해제\n",
    "`zipfile.ZipFile(파일명).extractall(path=None, members=None, pwd=None)`"
   ]
  },
  {
   "cell_type": "markdown",
   "metadata": {},
   "source": [
    "### exe 파일 배포\n"
   ]
  },
  {
   "cell_type": "code",
   "execution_count": null,
   "metadata": {},
   "outputs": [],
   "source": [
    "pass"
   ]
  },
  {
   "cell_type": "markdown",
   "metadata": {},
   "source": [
    "### 원하는 시간마다 파이썬 자동 실행"
   ]
  },
  {
   "cell_type": "code",
   "execution_count": null,
   "metadata": {},
   "outputs": [],
   "source": [
    "pass"
   ]
  },
  {
   "cell_type": "markdown",
   "metadata": {},
   "source": [
    "### PDF 다루기\n",
    "Python으로 PDF 문서를 다룰 수 있게 해주는 라이브러리  \n",
    "- PdfFileReader : 기존 PDF 읽기\n",
    "- PdfFileWriter : 새 PDF 쓰기 (페이지 단위)\n",
    "- PdfFileMerger : 새 PDF 쓰기 (파일 단위)\n",
    "\n",
    "#### 페이지 추출\n"
   ]
  },
  {
   "cell_type": "code",
   "execution_count": 4,
   "metadata": {},
   "outputs": [
    {
     "data": {
      "text/plain": [
       "(False, <_io.BufferedWriter name='./추출한 테스트 파일.pdf'>)"
      ]
     },
     "execution_count": 4,
     "metadata": {},
     "output_type": "execute_result"
    }
   ],
   "source": [
    "from PyPDF2 import PdfFileReader, PdfFileWriter\n",
    "\n",
    "# 기존 PDF 불러오기\n",
    "pdfReader = PdfFileReader(\"./8_Just_DDance.pdf\", \"rb\")\n",
    "\n",
    "# 새로 만들 pdf 객체 생성\n",
    "pdfWriter = PdfFileWriter()\n",
    "\n",
    "# 추출해서 새로 만든 PDF 파일에 삽입\n",
    "pdfWriter.addPage(pdfReader.getPage(1))\n",
    "\n",
    "# 새로 만든 PDF 저장\n",
    "pdfWriter.write(open(\"./추출한 테스트 파일.pdf\", \"wb\"))"
   ]
  },
  {
   "cell_type": "markdown",
   "metadata": {},
   "source": [
    "#### PDF 분할\n"
   ]
  },
  {
   "cell_type": "code",
   "execution_count": null,
   "metadata": {},
   "outputs": [],
   "source": [
    "# 페이지 하나씩 받아와서 저장하는 반복문\n",
    "for pageNum in range(pdfReader.numPages):\n",
    "\n",
    "    # step3.새로 만들 pdf 객체 생성 (계속 누적되지 않기 위해 for문 안으로 넣음)\n",
    "    pdfWriter = PdfFileWriter()\n",
    "\n",
    "    # step4.기존 PDF에서 한 페이지씩 가져오기\n",
    "    page = pdfReader.getPage(pageNum)\n",
    "\n",
    "    # step5.위에서 가져온 페이지를 새로 만든 PDF에 붙여넣기\n",
    "    pdfWriter.addPage(page)\n",
    "\n",
    "    # step6.새로운 PDF 파일을 해당 경로('./')에 원하는 이름으로 저장\n",
    "    # (이름을 계속 다르게 해주기 위해서 f 문자열 포매팅 개념을 이용)\n",
    "    pdfWriter.write(open(f\"./분할한 PDF 파일 {pageNum+1}.pdf\", \"wb\"))"
   ]
  },
  {
   "cell_type": "markdown",
   "metadata": {},
   "source": [
    "#### PDF 회전"
   ]
  },
  {
   "cell_type": "code",
   "execution_count": null,
   "metadata": {},
   "outputs": [],
   "source": [
    "# 페이지 하나씩 받아와서 돌린 후, 붙여넣는 반복문\n",
    "for pageNum in range(pdfReader.numPages):\n",
    "\n",
    "    # step4.기존 PDF에서 한 페이지씩 가져오기\n",
    "    page = pdfReader.getPage(pageNum)\n",
    "\n",
    "    # step5.시계 방향으로 90도 회전 (반시계로 90도 회전은 270 입력하면 됨)\n",
    "    page.rotateClockwise(90)\n",
    "\n",
    "    # step6.회전된 페이지 새로운 PDF에 붙여넣기\n",
    "    pdfWriter.addPage(page)\n",
    "\n",
    "# step7.새로운 pdf 파일을 해당 경로('./')에 원하는 이름으로 저장\n",
    "pdfWriter.write(open('./회전한 테스트 PDF 파일.pdf', 'wb'))"
   ]
  },
  {
   "cell_type": "markdown",
   "metadata": {},
   "source": [
    "#### PDF 병합"
   ]
  },
  {
   "cell_type": "code",
   "execution_count": null,
   "metadata": {},
   "outputs": [],
   "source": [
    "# step2.기존 pdf 불러오기\n",
    "pdfReader1 = PdfFileReader(open(\"테스트 PDF 파일 1.pdf\",\"rb\")) # 3장\n",
    "pdfReader2 = PdfFileReader(open(\"테스트 PDF 파일 2.pdf\",\"rb\")) # 2장\n",
    "\n",
    "# step3.새로 만들 pdf 객체 생성 (병합용)\n",
    "pdfMerger = PdfFileMerger()\n",
    "\n",
    "# step4.PDF 하나씩 가져와서 차례대로 병합\n",
    "pdfMerger.append(pdfReader1)\n",
    "pdfMerger.append(pdfReader2)\n",
    "\n",
    "# step5.새로운 pdf 파일을 해당 경로('./')에 원하는 이름으로 저장\n",
    "pdfMerger.write(\"./병합한 테스트 PDF 파일.pdf\")"
   ]
  }
 ],
 "metadata": {
  "kernelspec": {
   "display_name": "Python 3.8.13 ('Deep')",
   "language": "python",
   "name": "python3"
  },
  "language_info": {
   "codemirror_mode": {
    "name": "ipython",
    "version": 3
   },
   "file_extension": ".py",
   "mimetype": "text/x-python",
   "name": "python",
   "nbconvert_exporter": "python",
   "pygments_lexer": "ipython3",
   "version": "3.8.13"
  },
  "orig_nbformat": 4,
  "vscode": {
   "interpreter": {
    "hash": "2687cd7e348f8b276a3d3877a91949627292e389c8a2a645f881205e3ac80541"
   }
  }
 },
 "nbformat": 4,
 "nbformat_minor": 2
}
