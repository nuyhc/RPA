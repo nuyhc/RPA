{
 "cells": [
  {
   "cell_type": "markdown",
   "metadata": {},
   "source": [
    "# 이미지 처리\n",
    "### Pillow\n",
    "파이썬 이미지 처리 라이브러리 (PPM, PNG, JPEG, GIF, TIFF, BMP 등)  \n",
    "- 픽셀 단위의 조작\n",
    "- 마스킹 및 투명도 제어\n",
    "- 흐림, 윤곽 보정, 검출 등의 이미지 필터\n",
    "- 선명하게, 밝기 보정, 명암 보정, 색 보정 등의 화상 조정\n",
    "- 이미지에 텍스트 추가\n",
    "- 기타 등등"
   ]
  },
  {
   "cell_type": "code",
   "execution_count": 2,
   "metadata": {},
   "outputs": [],
   "source": [
    "from PIL import Image\n",
    "\n",
    "img = Image.open(\"gh.jpg\")\n",
    "\n",
    "img.show()"
   ]
  },
  {
   "cell_type": "code",
   "execution_count": 3,
   "metadata": {},
   "outputs": [
    {
     "name": "stdout",
     "output_type": "stream",
     "text": [
      "gh.jpg\n",
      "JPEG\n",
      "(510, 340)\n",
      "510\n",
      "340\n",
      "RGB\n"
     ]
    }
   ],
   "source": [
    "# 이미지 파일명\n",
    "print(img.filename)\n",
    "# 이미지 형식\n",
    "print(img.format)\n",
    "# 이미지 크기\n",
    "print(img.size)\n",
    "# 이미지 너비\n",
    "print(img.width)\n",
    "# 이미지 높이\n",
    "print(img.height)\n",
    "# 이미지의 색상 모드\n",
    "print(img.mode)"
   ]
  },
  {
   "cell_type": "markdown",
   "metadata": {},
   "source": [
    "#### 이미지 크기 변경"
   ]
  },
  {
   "cell_type": "code",
   "execution_count": 5,
   "metadata": {},
   "outputs": [],
   "source": [
    "img_resized = img.resize((400, 300))\n",
    "img_resized.show()"
   ]
  },
  {
   "cell_type": "markdown",
   "metadata": {},
   "source": [
    "#### 이미지 자르기\n",
    "`(left, upper, right, lower)`"
   ]
  },
  {
   "cell_type": "code",
   "execution_count": 8,
   "metadata": {},
   "outputs": [],
   "source": [
    "img_cropped = img.crop((0, 0, 300, 300))\n",
    "img_cropped.show()"
   ]
  },
  {
   "cell_type": "markdown",
   "metadata": {},
   "source": [
    "#### 이미지 회전"
   ]
  },
  {
   "cell_type": "code",
   "execution_count": 10,
   "metadata": {},
   "outputs": [
    {
     "data": {
      "text/plain": [
       "(510, 340)"
      ]
     },
     "execution_count": 10,
     "metadata": {},
     "output_type": "execute_result"
    }
   ],
   "source": [
    "img_rotated = img.rotate(90)\n",
    "img_rotated.show()"
   ]
  },
  {
   "cell_type": "markdown",
   "metadata": {},
   "source": [
    "#### 이미지 대칭"
   ]
  },
  {
   "cell_type": "code",
   "execution_count": 14,
   "metadata": {},
   "outputs": [],
   "source": [
    "# 좌우대칭\n",
    "img_flipped_LR = img.transpose(Image.Transpose.FLIP_LEFT_RIGHT)\n",
    "img_flipped_LR.show()"
   ]
  },
  {
   "cell_type": "code",
   "execution_count": 15,
   "metadata": {},
   "outputs": [],
   "source": [
    "# 상하대칭\n",
    "img_flipped_TB = img.transpose(Image.Transpose.FLIP_TOP_BOTTOM)\n",
    "img_flipped_TB.show()"
   ]
  },
  {
   "cell_type": "markdown",
   "metadata": {},
   "source": [
    "#### 이미지 저장"
   ]
  },
  {
   "cell_type": "code",
   "execution_count": null,
   "metadata": {},
   "outputs": [],
   "source": [
    "img.save(\"경로\")"
   ]
  },
  {
   "cell_type": "markdown",
   "metadata": {},
   "source": [
    "### 이미지 필터 효과\n",
    "#### 컬러 이미지 흑백으로 만들기"
   ]
  },
  {
   "cell_type": "code",
   "execution_count": 16,
   "metadata": {},
   "outputs": [],
   "source": [
    "img_gray = img.convert(\"L\")\n",
    "img_gray.show()"
   ]
  },
  {
   "cell_type": "markdown",
   "metadata": {},
   "source": [
    "| 파라미터 | 변환 이미지 |\n",
    "| :---: | :---: |\n",
    "| 1 | 1비트 픽셀, 흑백, 바이트당 1픽셀로 저장 |\n",
    "| L | 8비트 픽셀, 흑백 |\n",
    "| P | 8비트 픽셀, 색상 팔레트를 사용해 다른 모드에 매핑 |\n",
    "| RGB | 3x8비트 픽셀, 트루 컬러 |\n",
    "| RGBA | 4x8비트 픽셀, 투명 마스크가 있는 트루 컬러 |\n",
    "| CMYK | 4x8비트 픽셀, 색상 분리 |\n",
    "| YCbCr | 3x8비트 픽셀, 컬러 비디오 형식 |\n",
    "| LAB | 3x8비트 픽셀, Lab색 공간 |\n",
    "| HSV | 3x8비트 픽셀, 색조, 채도, 값 색 공간 |\n",
    "| I | 32비트 부호 있는 정수 픽셀 |\n",
    "| F | 32비트 부동 소수점 픽셀 |\n",
    "\n",
    "### 이미지에 필터 부여하기\n",
    "[PIL filter list.](https://pillow.readthedocs.io/en/stable/_modules/PIL/ImageFilter.html#MaxFilter)"
   ]
  },
  {
   "cell_type": "code",
   "execution_count": 17,
   "metadata": {},
   "outputs": [],
   "source": [
    "from PIL import ImageFilter"
   ]
  },
  {
   "cell_type": "code",
   "execution_count": 18,
   "metadata": {},
   "outputs": [],
   "source": [
    "# 블러\n",
    "img_blur = img.filter(ImageFilter.GaussianBlur(10))\n",
    "img_blur.show()"
   ]
  },
  {
   "cell_type": "code",
   "execution_count": 19,
   "metadata": {},
   "outputs": [],
   "source": [
    "# 엣지\n",
    "img_edge = img.filter(ImageFilter.EDGE_ENHANCE)\n",
    "img_edge.show()"
   ]
  },
  {
   "cell_type": "markdown",
   "metadata": {},
   "source": [
    "### 이미지 워터마크 (텍스트)"
   ]
  },
  {
   "cell_type": "code",
   "execution_count": 21,
   "metadata": {},
   "outputs": [
    {
     "name": "stderr",
     "output_type": "stream",
     "text": [
      "c:\\Users\\spec3\\anaconda3\\envs\\auto\\lib\\site-packages\\ipykernel_launcher.py:17: DeprecationWarning: textsize is deprecated and will be removed in Pillow 10 (2023-07-01). Use textbbox or textlength instead.\n",
      "  app.launch_new_instance()\n"
     ]
    }
   ],
   "source": [
    "from PIL import Image, ImageDraw, ImageFont\n",
    "\n",
    "# 워터마크 삽입할 이미지 불러오기\n",
    "img = Image.open(\"./gh.jpg\")\n",
    "width, height = img.size\n",
    "\n",
    "# 그림판에 이미지를 그대로 붙여 넣는 느낌의 Draw() 함수\n",
    "draw = ImageDraw.Draw(img)\n",
    "\n",
    "# 삽입할 워터마크 문자\n",
    "text = \"nuyhc\"\n",
    "\n",
    "# 삽입할 문자의 폰트 설정\n",
    "# font = ImageFont.truetype(\"폰트 경로\", size)\n",
    "\n",
    "# 삽입할 문자의 높이, 너비\n",
    "width_txt, height_txt = draw.textsize(text, font=None)\n",
    "\n",
    "# 워터마크 위치 설정\n",
    "margin = 10\n",
    "x = width - width_txt - margin\n",
    "y = height - height_txt - margin\n",
    "\n",
    "draw.text((x, y), text, file=\"white\", font=None)\n",
    "\n",
    "img.show()"
   ]
  },
  {
   "cell_type": "markdown",
   "metadata": {},
   "source": [
    "### 이미지 엑셀에 삽입"
   ]
  },
  {
   "cell_type": "code",
   "execution_count": 23,
   "metadata": {},
   "outputs": [],
   "source": [
    "import os\n",
    "import openpyxl as op\n",
    "from openpyxl.drawing.image import Image\n",
    "from PIL import Image as pi"
   ]
  },
  {
   "cell_type": "markdown",
   "metadata": {},
   "source": [
    "![temp](https://blog.kakaocdn.net/dn/cXT72J/btrksMI3v6t/ZGFE50MkN1K6QWWUDKyfV0/img.png)"
   ]
  },
  {
   "cell_type": "code",
   "execution_count": 34,
   "metadata": {},
   "outputs": [],
   "source": [
    "#사이즈를 조절하는 함수\n",
    "def resizeImg(size, img_path, img_name):\n",
    "    #이미지 객체 생성\n",
    "    img = pi.open(img_path+\"/\"+img_name)\n",
    "    #이미지 resize\n",
    "    resize_img = img.resize(size)\n",
    "    #수정한 이미지 저장\n",
    "    resize_img.save(img_path+\"/\"+img_name, \"JPEG\", quality=95)\n",
    "\n",
    "#이미지를 엑셀에 삽입하는 함수\n",
    "def insertImg(file_path, img_path, img_name, save_path):\n",
    "    #file_path 폴더에 파일 목록을 리스트화\n",
    "    file_list = os.listdir(file_path)\n",
    "    #리스트 for문 실행\n",
    "    for file in file_list:\n",
    "        #각 파일 openpyxl Workbook 객체 생성\n",
    "        wb = op.load_workbook(file_path+\"/\"+file)\n",
    "        #시트 설정\n",
    "        ws = wb.active\n",
    "        #이미지 객체 생성\n",
    "        img = Image(img_path+\"/\"+img_name)\n",
    "        #이미지를 \"A1\"에 추가\n",
    "        ws.add_image(img, \"A1\")\n",
    "        #엑셀 파일 저장\n",
    "        wb.save(save_path+\"/\"+file)"
   ]
  },
  {
   "cell_type": "code",
   "execution_count": 35,
   "metadata": {},
   "outputs": [],
   "source": [
    "file_path = r\"C:\\Users\\spec3\\OneDrive\\문서\\text\"\n",
    "img_path = r\"C:\\Users\\spec3\\OneDrive\\바탕 화면\\dev\\RPA\"\n",
    "save_path = \"./\"\n",
    "img_name = \"gh.jpg\"\n",
    "size = (500, 200)\n",
    "\n",
    "resizeImg(size, img_path, img_name)\n",
    "insertImg(file_path, img_path, img_name, save_path)"
   ]
  }
 ],
 "metadata": {
  "kernelspec": {
   "display_name": "Python 3.7.13 ('auto')",
   "language": "python",
   "name": "python3"
  },
  "language_info": {
   "codemirror_mode": {
    "name": "ipython",
    "version": 3
   },
   "file_extension": ".py",
   "mimetype": "text/x-python",
   "name": "python",
   "nbconvert_exporter": "python",
   "pygments_lexer": "ipython3",
   "version": "3.7.13"
  },
  "orig_nbformat": 4,
  "vscode": {
   "interpreter": {
    "hash": "dc50a67e814ec69e50f4baabb47540832735f761766bafdbd304f349916f94b2"
   }
  }
 },
 "nbformat": 4,
 "nbformat_minor": 2
}
