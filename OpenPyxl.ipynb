{
 "cells": [
  {
   "cell_type": "markdown",
   "metadata": {},
   "source": [
    "# OpenPyxl\n",
    "### 엑설의 구성 요소\n",
    "#### 1. Workbook\n",
    "엑셀 확장자 파일(`.xls, .xlsx, .xlsm 등`)을 Workbook 개체라고 함   \n",
    "#### 2. WorkSheet (=Sheet)\n",
    "데이터를 입력할 수 있는 Cell이 모여진 공간을 Sheet라고 부르며, 1개의 Workbook 안에는 여러개의 Sheet를 가질 수 있음  \n",
    "-> 특정 Sheet에 접근하기 위해 이를 설정하는 코드를 작성해야 함  \n",
    "#### 3. Cell\n",
    "Sheet에서 데이터를 쓸 수 있는 공간 1개(1칸)  \n",
    "#### 4. Range\n",
    "엑셀에서는 각 Cell을 지칭하는 인덱스를 제공함  \n",
    "- 1행 1열 -> A1, 1행 2열 -> B1 ...  \n",
    "\n",
    "\n",
    "Range를 사용하면 사용자가 직관적으로 인덱스를 통해 각 셀에 접근할 수 있음"
   ]
  },
  {
   "cell_type": "code",
   "execution_count": 1,
   "metadata": {},
   "outputs": [],
   "source": [
    "import openpyxl as op"
   ]
  },
  {
   "cell_type": "markdown",
   "metadata": {},
   "source": [
    "###  Workbook 객체 생성하기"
   ]
  },
  {
   "cell_type": "code",
   "execution_count": 2,
   "metadata": {},
   "outputs": [
    {
     "name": "stdout",
     "output_type": "stream",
     "text": [
      "<openpyxl.workbook.workbook.Workbook object at 0x0000019EF1910248>\n"
     ]
    }
   ],
   "source": [
    "# 새로운 엑셀  파일을 만들 경우\n",
    "wb = op.Workbook()\n",
    "print(wb)"
   ]
  },
  {
   "cell_type": "code",
   "execution_count": 3,
   "metadata": {},
   "outputs": [],
   "source": [
    "wb.save(\"openpyxl_test.xlsx\")"
   ]
  },
  {
   "cell_type": "code",
   "execution_count": 4,
   "metadata": {},
   "outputs": [
    {
     "name": "stdout",
     "output_type": "stream",
     "text": [
      "<openpyxl.workbook.workbook.Workbook object at 0x0000019EF1649288>\n"
     ]
    }
   ],
   "source": [
    "# 기존에 만들어져 있는 파일로 객체를 생성하는 경우\n",
    "path = r\"./openpyxl_test.xlsx\"\n",
    "wb  =  op.load_workbook(path)\n",
    "print(wb)"
   ]
  },
  {
   "cell_type": "markdown",
   "metadata": {},
   "source": [
    "### WorkSheet 설정하기"
   ]
  },
  {
   "cell_type": "code",
   "execution_count": 5,
   "metadata": {},
   "outputs": [
    {
     "name": "stdout",
     "output_type": "stream",
     "text": [
      "<Worksheet \"new_sheet1\">\n"
     ]
    }
   ],
   "source": [
    "# 새로운 Sheet 만들기\n",
    "wb = op.Workbook()\n",
    "ws = wb.create_sheet(\"new_sheet1\")\n",
    "print(ws)\n",
    "wb.save(\"openpyxl_test.xlsx\")"
   ]
  },
  {
   "cell_type": "code",
   "execution_count": 3,
   "metadata": {},
   "outputs": [
    {
     "name": "stdout",
     "output_type": "stream",
     "text": [
      "<Worksheet \"업\">\n"
     ]
    }
   ],
   "source": [
    "# 활성화 되어있는 Sheet 접근\n",
    "ws = wb.active\n",
    "print(ws)"
   ]
  },
  {
   "cell_type": "code",
   "execution_count": 4,
   "metadata": {},
   "outputs": [
    {
     "name": "stdout",
     "output_type": "stream",
     "text": [
      "<Worksheet \"무\">\n"
     ]
    }
   ],
   "source": [
    "# 시트명으로 접근\n",
    "ws = wb[\"무\"]\n",
    "print(ws)"
   ]
  },
  {
   "cell_type": "markdown",
   "metadata": {},
   "source": [
    "### Workbook 객체의 모든 Shee명 출력\n",
    "내부 Sheet를 리스트로 저장하기 때문에 반복문을 통해 접근 가능  "
   ]
  },
  {
   "cell_type": "code",
   "execution_count": 5,
   "metadata": {},
   "outputs": [
    {
     "name": "stdout",
     "output_type": "stream",
     "text": [
      "['업', '무', '자', '동', '화']\n"
     ]
    }
   ],
   "source": [
    "ws_list = wb.sheetnames\n",
    "print(ws_list)"
   ]
  },
  {
   "cell_type": "code",
   "execution_count": 6,
   "metadata": {},
   "outputs": [
    {
     "name": "stdout",
     "output_type": "stream",
     "text": [
      "<Worksheet \"업\">\n",
      "<Worksheet \"무\">\n",
      "<Worksheet \"자\">\n",
      "<Worksheet \"동\">\n",
      "<Worksheet \"화\">\n"
     ]
    }
   ],
   "source": [
    "for sht in ws_list:\n",
    "    ws = wb[sht]\n",
    "    print(ws)"
   ]
  },
  {
   "cell_type": "markdown",
   "metadata": {},
   "source": [
    "### Cell  데이터 읽기/쓰기/삭제\n",
    "#### Cell Data 읽기"
   ]
  },
  {
   "cell_type": "code",
   "execution_count": 3,
   "metadata": {},
   "outputs": [
    {
     "name": "stdout",
     "output_type": "stream",
     "text": [
      "4 4\n"
     ]
    }
   ],
   "source": [
    "wb =  op.load_workbook(\"./openpyxl_test.xlsx\")\n",
    "ws = wb.active\n",
    "\n",
    "# 방법1: Sheet의 Cell 속성  사용\n",
    "data1 = ws.cell(row=1, column=2).value\n",
    "# 방법2: Range 사용\n",
    "data2 = ws[\"B1\"].value\n",
    "\n",
    "print(data1, data2)"
   ]
  },
  {
   "cell_type": "code",
   "execution_count": 4,
   "metadata": {},
   "outputs": [
    {
     "name": "stdout",
     "output_type": "stream",
     "text": [
      "((<Cell '업'.A1>, <Cell '업'.B1>),)\n"
     ]
    }
   ],
   "source": [
    "rng = ws[\"A1:B1\"]\n",
    "print(rng)"
   ]
  },
  {
   "cell_type": "code",
   "execution_count": 8,
   "metadata": {},
   "outputs": [
    {
     "name": "stdout",
     "output_type": "stream",
     "text": [
      "1\n",
      "4\n",
      "7\n",
      "2\n",
      "5\n",
      "8\n",
      "3\n",
      "6\n",
      "9\n"
     ]
    }
   ],
   "source": [
    "rng = ws[\"A1:C3\"]\n",
    "for rng_data in rng:\n",
    "    for cell_data  in rng_data:\n",
    "        print(cell_data.value)"
   ]
  },
  {
   "cell_type": "markdown",
   "metadata": {},
   "source": [
    "#### Cell Data 쓰기"
   ]
  },
  {
   "cell_type": "code",
   "execution_count": 9,
   "metadata": {},
   "outputs": [],
   "source": [
    "ws = wb[\"무\"]\n",
    "\n",
    "ws.cell(row=1,column=2).value = \"입력테스트1\"\n",
    "ws[\"C1\"].value =\"입력테스트2\"\n",
    "\n",
    "wb.save(\"./result.xlsx\")"
   ]
  },
  {
   "cell_type": "code",
   "execution_count": 10,
   "metadata": {},
   "outputs": [],
   "source": [
    "datalist = [2, 4, 8, 16, 32, 64, 128, 256]\n",
    "idx = 1\n",
    "for data in datalist:\n",
    "    ws.cell(row=idx, column=1).value = data\n",
    "    idx += 1\n",
    "wb.save(\"./result.xlsx\")"
   ]
  },
  {
   "cell_type": "markdown",
   "metadata": {},
   "source": [
    "#### Cell Data 삭제하기"
   ]
  },
  {
   "cell_type": "code",
   "execution_count": 15,
   "metadata": {},
   "outputs": [],
   "source": [
    "# 공백으로 설정하기\n",
    "wb = op.load_workbook(\"./result.xlsx\")\n",
    "ws = wb.active\n",
    "rng = ws[\"A1:C3\"]\n",
    "for row_data in rng:\n",
    "    for data in row_data:\n",
    "        if data.value%2==0:\n",
    "            data.value=\"\"\n",
    "\n",
    "wb.save(\"./result2.xlsx\")"
   ]
  },
  {
   "cell_type": "code",
   "execution_count": 20,
   "metadata": {},
   "outputs": [],
   "source": [
    "# 원하는 행이나 열을 설정한 범위 기준으로 삭제\n",
    "wb = op.load_workbook(\"./result.xlsx\")\n",
    "ws = wb.active\n",
    "ws.delete_rows(1, 2) # 1행부터 시작해서 2개까지\n",
    "wb.save(\"./delete_result.xlsx\")"
   ]
  },
  {
   "cell_type": "code",
   "execution_count": 23,
   "metadata": {},
   "outputs": [],
   "source": [
    "# 시트를 삭제하고 다시 생성하기\n",
    "ws = wb[\"업\"]\n",
    "wb.remove(ws)\n",
    "wb.create_sheet(\"업\")\n",
    "wb.save(\"./delete_result.xlsx\")"
   ]
  },
  {
   "cell_type": "markdown",
   "metadata": {},
   "source": [
    "### .rows, .columns 속성"
   ]
  },
  {
   "cell_type": "code",
   "execution_count": 24,
   "metadata": {},
   "outputs": [
    {
     "name": "stdout",
     "output_type": "stream",
     "text": [
      "(<Cell '업'.A1>, <Cell '업'.B1>, <Cell '업'.C1>)\n",
      "(<Cell '업'.A2>, <Cell '업'.B2>, <Cell '업'.C2>)\n",
      "(<Cell '업'.A3>, <Cell '업'.B3>, <Cell '업'.C3>)\n"
     ]
    }
   ],
   "source": [
    "# rows 출력하기\n",
    "wb = op.load_workbook(\"./openpyxl_test.xlsx\")\n",
    "ws = wb[\"업\"]\n",
    "for row_rng in  ws.rows:\n",
    "    print(row_rng)"
   ]
  },
  {
   "cell_type": "code",
   "execution_count": 25,
   "metadata": {},
   "outputs": [
    {
     "name": "stdout",
     "output_type": "stream",
     "text": [
      "(<Cell '업'.A1>, <Cell '업'.A2>, <Cell '업'.A3>)\n",
      "(<Cell '업'.B1>, <Cell '업'.B2>, <Cell '업'.B3>)\n",
      "(<Cell '업'.C1>, <Cell '업'.C2>, <Cell '업'.C3>)\n"
     ]
    }
   ],
   "source": [
    "# columns 출력하기\n",
    "for col_rng in ws.columns:\n",
    "    print(col_rng)"
   ]
  },
  {
   "cell_type": "code",
   "execution_count": 27,
   "metadata": {},
   "outputs": [
    {
     "name": "stdout",
     "output_type": "stream",
     "text": [
      "(<Cell '업'.A1>, <Cell '업'.B1>, <Cell '업'.C1>, <Cell '업'.D1>)\n",
      "(<Cell '업'.A2>, <Cell '업'.B2>, <Cell '업'.C2>, <Cell '업'.D2>)\n",
      "(<Cell '업'.A3>, <Cell '업'.B3>, <Cell '업'.C3>, <Cell '업'.D3>)\n",
      "(<Cell '업'.A4>, <Cell '업'.B4>, <Cell '업'.C4>, <Cell '업'.D4>)\n"
     ]
    }
   ],
   "source": [
    "# 데이터 추가 후\n",
    "wb = op.load_workbook(\"./openpyxl_test.xlsx\")\n",
    "ws = wb[\"업\"]\n",
    "for row_rng in ws.rows:\n",
    "    print(row_rng)"
   ]
  },
  {
   "cell_type": "code",
   "execution_count": 28,
   "metadata": {},
   "outputs": [
    {
     "name": "stdout",
     "output_type": "stream",
     "text": [
      "1\n",
      "4\n",
      "7\n",
      "10\n",
      "2\n",
      "5\n",
      "8\n",
      "11\n",
      "3\n",
      "6\n",
      "9\n",
      "12\n",
      "13\n"
     ]
    }
   ],
   "source": [
    "for row_rng in ws.rows:\n",
    "    for cell in row_rng:\n",
    "        if cell.value!=None:\n",
    "            print(cell.value)"
   ]
  },
  {
   "cell_type": "markdown",
   "metadata": {},
   "source": [
    "### 엑셀 함수 쓰기 (max_row, max_column)"
   ]
  },
  {
   "cell_type": "code",
   "execution_count": 2,
   "metadata": {},
   "outputs": [],
   "source": [
    "wb = op.load_workbook(\"./openpyxl_test.xlsx\")\n",
    "ws = wb.active\n",
    "\n",
    "ws[\"E11\"].value = \"=SUM(C:C)\"\n",
    "\n",
    "wb.save(\"./result.xlsx\")"
   ]
  },
  {
   "cell_type": "code",
   "execution_count": 4,
   "metadata": {},
   "outputs": [
    {
     "name": "stdout",
     "output_type": "stream",
     "text": [
      "최대 행 값: 11\n",
      "최대 열 값: 5\n"
     ]
    }
   ],
   "source": [
    "wb = op.load_workbook(\"./openpyxl_test.xlsx\")\n",
    "ws = wb.active\n",
    "\n",
    "col_max = ws.max_column\n",
    "row_max = ws.max_row\n",
    "\n",
    "print(f\"최대 행 값: {row_max}\\n최대 열 값: {col_max}\")"
   ]
  },
  {
   "cell_type": "code",
   "execution_count": 6,
   "metadata": {},
   "outputs": [],
   "source": [
    "for row in range(2, row_max+1):\n",
    "    ws[\"E\"+str(row)].value = \"=C\"+str(row)+\"*\"+\"D\"+str(row)\n",
    "\n",
    "wb.save(\"./result.xlsx\")"
   ]
  },
  {
   "cell_type": "code",
   "execution_count": 7,
   "metadata": {},
   "outputs": [
    {
     "name": "stdout",
     "output_type": "stream",
     "text": [
      "['총 가격(단가*인원)', '=C2*D2', '=C3*D3', '=C4*D4', '=C5*D5', '=C6*D6', '=C7*D7', '=C8*D8', '=C9*D9', '=C10*D10', '=C11*D11']\n"
     ]
    }
   ],
   "source": [
    "# 함수 결과를 다시 읽어보기\n",
    "wb = op.load_workbook(\"./result.xlsx\")\n",
    "ws = wb.active\n",
    "\n",
    "data = []\n",
    "for row in ws.rows:\n",
    "    data.append(row[4].value)\n",
    "\n",
    "print(data)"
   ]
  },
  {
   "cell_type": "markdown",
   "metadata": {},
   "source": [
    "- data_only=True : 수식이 계산된 값을 읽어옴\n",
    "- read_only=True : 엑셀을 수정하지 않고 데이터만 읽어올 경우"
   ]
  },
  {
   "cell_type": "code",
   "execution_count": 9,
   "metadata": {},
   "outputs": [
    {
     "name": "stdout",
     "output_type": "stream",
     "text": [
      "['총 가격(단가*인원)', 10000, 30000, 39000, 100000, 15000, 15000, 30000, 39000, 100000, 20000]\n"
     ]
    }
   ],
   "source": [
    "wb = op.load_workbook(\"./result.xlsx\", data_only=True)\n",
    "ws = wb.active\n",
    "\n",
    "data = []\n",
    "for row in ws.rows:\n",
    "    data.append(row[-1].value)\n",
    "\n",
    "print(data)"
   ]
  },
  {
   "cell_type": "markdown",
   "metadata": {},
   "source": [
    "### 엑셀 서식 지정하기\n",
    "#### 1. Font"
   ]
  },
  {
   "cell_type": "code",
   "execution_count": 10,
   "metadata": {},
   "outputs": [
    {
     "data": {
      "text/plain": [
       "<bound method Workbook.close of <openpyxl.workbook.workbook.Workbook object at 0x000002C173FCB588>>"
      ]
     },
     "execution_count": 10,
     "metadata": {},
     "output_type": "execute_result"
    }
   ],
   "source": [
    "from openpyxl.styles.fonts import Font\n",
    "\n",
    "wb = op.Workbook()\n",
    "ws = wb.active\n",
    "\n",
    "# 직접 폰트 설정\n",
    "ws[\"A1\"].value = \"Font test1\"\n",
    "ws[\"A1\"].font = Font(size=20, italic=True, bold=True)\n",
    "# format을 정해 놓고 font 설정하기\n",
    "ws[\"A2\"].value = \"Font test2\"\n",
    "font_format = Font(size=12, name=\"굴림\", color=\"FF000000\")\n",
    "ws[\"A2\"].font = font_format\n",
    "\n",
    "wb.save(\"./test_result.xlsx\")\n",
    "wb.close"
   ]
  },
  {
   "cell_type": "markdown",
   "metadata": {},
   "source": [
    "#### 2. Border, Side\n",
    "엑셀의 셀 테두리를 설정  \n",
    "- Border: 선택 Cell에 상하좌우 중 어떤 부분?\n",
    "- Side: 각 테두리에 어떤 테두리 형식을 적용?"
   ]
  },
  {
   "cell_type": "code",
   "execution_count": 17,
   "metadata": {},
   "outputs": [
    {
     "data": {
      "text/plain": [
       "<bound method Workbook.close of <openpyxl.workbook.workbook.Workbook object at 0x000002C173807148>>"
      ]
     },
     "execution_count": 17,
     "metadata": {},
     "output_type": "execute_result"
    }
   ],
   "source": [
    "from openpyxl.styles import Border, Side\n",
    "from openpyxl.styles.colors import Color\n",
    "\n",
    "wb = op.Workbook()\n",
    "ws = wb.active\n",
    "\n",
    "ws[\"C3\"].value = \"1개 Cell\"\n",
    "\n",
    "ws[\"C3\"].border = Border(top=Side(border_style=\"thin\", color=\"135EB9\"))\n",
    "ws[\"C3\"].border = Border(bottom=Side(border_style=\"double\"))\n",
    "\n",
    "wb.save(\"./test_result.xlsx\")\n",
    "wb.close"
   ]
  },
  {
   "cell_type": "markdown",
   "metadata": {},
   "source": [
    "#### 3. 정렬"
   ]
  },
  {
   "cell_type": "code",
   "execution_count": 18,
   "metadata": {},
   "outputs": [],
   "source": [
    "from openpyxl.styles import Alignment\n",
    "\n",
    "wb = op.Workbook()\n",
    "ws = wb.active\n",
    "\n",
    "ws[\"C2\"].value = \"Alignment Test1\"\n",
    "ws[\"C4\"].value = \"Alignment Test2\"\n",
    "\n",
    "# 셀 너비, 높이 설정\n",
    "ws.row_dimensions[2].height = 50 # 2행의 높이\n",
    "ws.row_dimensions[4].height = 50 # 4행의 높이\n",
    "ws.column_dimensions[\"C\"].width = 50 # C열의 너비\n",
    "\n",
    "ws[\"C2\"].alignment = Alignment(horizontal=\"left\", vertical=\"center\")\n",
    "\n",
    "format= Alignment(horizontal=\"center\", vertical=\"center\")\n",
    "ws[\"C4\"].alignment = format\n",
    "\n",
    "wb.save(\"./test_result.xlsx\")\n",
    "wb.close()"
   ]
  },
  {
   "cell_type": "markdown",
   "metadata": {},
   "source": [
    "- horizontal : center, left, right\n",
    "- vertical : top, bottom, center\n",
    "\n",
    "#### 4. 채우기 (PatternFill)"
   ]
  },
  {
   "cell_type": "code",
   "execution_count": null,
   "metadata": {},
   "outputs": [],
   "source": [
    "from openpyxl.styles import PatternFill\n",
    "\n",
    "wb = op.Workbook()\n",
    "ws = wb.active\n",
    "\n",
    "ws[\"C5\"].fill = PatternFill(fill_type=\"solid\", fgColor=\"00FF00\")\n",
    "ws[\"C3\"].fill = PatternFill()"
   ]
  }
 ],
 "metadata": {
  "kernelspec": {
   "display_name": "Python 3.7.13 ('auto')",
   "language": "python",
   "name": "python3"
  },
  "language_info": {
   "codemirror_mode": {
    "name": "ipython",
    "version": 3
   },
   "file_extension": ".py",
   "mimetype": "text/x-python",
   "name": "python",
   "nbconvert_exporter": "python",
   "pygments_lexer": "ipython3",
   "version": "3.7.13"
  },
  "orig_nbformat": 4,
  "vscode": {
   "interpreter": {
    "hash": "dc50a67e814ec69e50f4baabb47540832735f761766bafdbd304f349916f94b2"
   }
  }
 },
 "nbformat": 4,
 "nbformat_minor": 2
}
