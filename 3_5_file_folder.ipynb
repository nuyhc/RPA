{
 "cells": [
  {
   "cell_type": "markdown",
   "metadata": {},
   "source": [
    "# 파일과 폴더 다루기\n",
    "- os : 폴더를 생성하거나 경로를 다룰 때 사용\n",
    "- shutil : 파일을 복사하거나 이동시킬 때 사용\n",
    "- glob : 패턴을 사용해 현재 폴더는 물론 하위 경로의 파일들을 검색할 때 사용\n",
    "\n",
    "\n",
    "### 경로(path)와 디렉토리(directoty)\n",
    "- 윈도우: `\\`\n",
    "- MAC: `/`\n",
    "\n",
    "절대경로와 상대경로가 있음"
   ]
  },
  {
   "cell_type": "markdown",
   "metadata": {},
   "source": [
    "### OS 모듈"
   ]
  },
  {
   "cell_type": "code",
   "execution_count": 1,
   "metadata": {},
   "outputs": [],
   "source": [
    "import os"
   ]
  },
  {
   "cell_type": "code",
   "execution_count": 2,
   "metadata": {},
   "outputs": [
    {
     "data": {
      "text/plain": [
       "'c:\\\\Users\\\\spec3\\\\OneDrive\\\\바탕 화면\\\\dev\\\\RPA'"
      ]
     },
     "execution_count": 2,
     "metadata": {},
     "output_type": "execute_result"
    }
   ],
   "source": [
    "# 현재 작업중인 경로를 문자열로 반환\n",
    "os.getcwd()"
   ]
  },
  {
   "cell_type": "code",
   "execution_count": null,
   "metadata": {},
   "outputs": [],
   "source": [
    "# 디렉토리 생성\n",
    "os.mkdir(\"원하는 경로/새로운 디렉토리\")"
   ]
  },
  {
   "cell_type": "code",
   "execution_count": 3,
   "metadata": {},
   "outputs": [],
   "source": [
    "# 디렉토리를 순서대로 생성할 수 있음\n",
    "os.makedirs(\"./a/b/c\")"
   ]
  },
  {
   "cell_type": "code",
   "execution_count": 4,
   "metadata": {},
   "outputs": [
    {
     "data": {
      "text/plain": [
       "['.git',\n",
       " '.gitignore',\n",
       " '3_1_OpenPyxl.ipynb',\n",
       " '3_2_xlwings.ipynb',\n",
       " '3_3_win32com.ipynb',\n",
       " '3_4_python-docx.ipynb',\n",
       " '3_5_file_folder.ipynb',\n",
       " 'chromedriver.exe',\n",
       " 'README.md',\n",
       " 'selenium_tutorial.ipynb']"
      ]
     },
     "execution_count": 4,
     "metadata": {},
     "output_type": "execute_result"
    }
   ],
   "source": [
    "# 해당 경로에 위치한 파일, 디렉토리 이름(확장자 포함)을 리스트로 돌려줌\n",
    "os.listdir(\"./\")"
   ]
  },
  {
   "cell_type": "code",
   "execution_count": 10,
   "metadata": {},
   "outputs": [
    {
     "name": "stdout",
     "output_type": "stream",
     "text": [
      "c:\\Users\\spec3\\OneDrive\\바탕 화면\\dev\\RPA\n",
      "c:\\Users\\spec3\\Documents\n"
     ]
    }
   ],
   "source": [
    "# 원하는 경로를 현재 작업 경로로 변환\n",
    "print(os.getcwd())\n",
    "os.chdir(\"/Users/spec3/Documents/\")\n",
    "print(os.getcwd())"
   ]
  },
  {
   "cell_type": "code",
   "execution_count": null,
   "metadata": {},
   "outputs": [],
   "source": [
    "# 디렉토리 삭제\n",
    "os.removedirs(\"디렉토리 경로\")"
   ]
  },
  {
   "cell_type": "code",
   "execution_count": null,
   "metadata": {},
   "outputs": [],
   "source": [
    "# 파일 삭제\n",
    "os.remove(\"경로\")\n",
    "os.unlink(\"경로\")"
   ]
  },
  {
   "cell_type": "code",
   "execution_count": null,
   "metadata": {},
   "outputs": [],
   "source": [
    "# 파일 이름 변경\n",
    "os.rename(path1, path2) # 기존 파일, 바꾸고자하는 파일명"
   ]
  },
  {
   "cell_type": "markdown",
   "metadata": {},
   "source": [
    "### glob 모듈"
   ]
  },
  {
   "cell_type": "code",
   "execution_count": 1,
   "metadata": {},
   "outputs": [],
   "source": [
    "import glob"
   ]
  },
  {
   "cell_type": "code",
   "execution_count": 3,
   "metadata": {},
   "outputs": [
    {
     "name": "stdout",
     "output_type": "stream",
     "text": [
      ".\\3_1_OpenPyxl.ipynb\n",
      ".\\3_2_xlwings.ipynb\n",
      ".\\3_3_win32com.ipynb\n",
      ".\\3_4_python-docx.ipynb\n",
      ".\\3_5_file_folder.ipynb\n",
      ".\\selenium_tutorial.ipynb\n"
     ]
    }
   ],
   "source": [
    "list_filepaht = glob.glob(\"./*.ipynb\")\n",
    "\n",
    "for filepath in list_filepaht:\n",
    "    print(filepath)"
   ]
  },
  {
   "cell_type": "markdown",
   "metadata": {},
   "source": [
    "### shutil 모듈"
   ]
  },
  {
   "cell_type": "code",
   "execution_count": 4,
   "metadata": {},
   "outputs": [],
   "source": [
    "import shutil"
   ]
  },
  {
   "cell_type": "code",
   "execution_count": null,
   "metadata": {},
   "outputs": [],
   "source": [
    "shutil.move(\"이동시킬 파일명\", \"파일을 이동시킬 폴더명\")\n",
    "\n",
    "# 예시\n",
    "shutil.move('./Shutil Basic/Test.xlsx',\n",
    "            './Shutil Basic/테스트 폴더')"
   ]
  },
  {
   "cell_type": "code",
   "execution_count": null,
   "metadata": {},
   "outputs": [],
   "source": [
    "# 폴더를 특정 폴더로 복사하기\n",
    "shutil.copytree(\"복사할 폴더명\", \"복사될 새로운 폴더명\")"
   ]
  }
 ],
 "metadata": {
  "kernelspec": {
   "display_name": "Python 3.7.13 ('auto')",
   "language": "python",
   "name": "python3"
  },
  "language_info": {
   "codemirror_mode": {
    "name": "ipython",
    "version": 3
   },
   "file_extension": ".py",
   "mimetype": "text/x-python",
   "name": "python",
   "nbconvert_exporter": "python",
   "pygments_lexer": "ipython3",
   "version": "3.7.13"
  },
  "orig_nbformat": 4,
  "vscode": {
   "interpreter": {
    "hash": "dc50a67e814ec69e50f4baabb47540832735f761766bafdbd304f349916f94b2"
   }
  }
 },
 "nbformat": 4,
 "nbformat_minor": 2
}
