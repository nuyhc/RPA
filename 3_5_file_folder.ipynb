{
 "cells": [
  {
   "cell_type": "markdown",
   "metadata": {},
   "source": [
    "# 파일과 폴더 다루기\n",
    "- os : 폴더를 생성하거나 경로를 다룰 때 사용\n",
    "- shutil : 파일을 복사하거나 이동시킬 때 사용\n",
    "- glob : 패턴을 사용해 현재 폴더는 물론 하위 경로의 파일들을 검색할 때 사용"
   ]
  }
 ],
 "metadata": {
  "kernelspec": {
   "display_name": "Python 3.7.13 ('auto')",
   "language": "python",
   "name": "python3"
  },
  "language_info": {
   "name": "python",
   "version": "3.7.13"
  },
  "orig_nbformat": 4,
  "vscode": {
   "interpreter": {
    "hash": "dc50a67e814ec69e50f4baabb47540832735f761766bafdbd304f349916f94b2"
   }
  }
 },
 "nbformat": 4,
 "nbformat_minor": 2
}
