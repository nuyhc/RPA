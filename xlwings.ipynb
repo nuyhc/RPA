{
 "cells": [
  {
   "cell_type": "markdown",
   "metadata": {},
   "source": [
    "# xlwings\n",
    "`openpyxl`과 비슷하지만 엑셀의 매크로(VBA: Visiaul Basic for Application)와 파이썬을 연동 가능\n",
    "\n",
    "### 엑셀 VBA\n",
    "MS에서 제공하는 프로그래밍 언어로, MS 응용 프로그램을 위한 언어\n",
    "\n",
    "### 파이썬과 VBA의 연동\n",
    "`xlwings`를 이용하면, 엑셀에서 파이썬 코드를 불러와 사용하거나 파이썬에서 엑셀 VBA를 실행 시키는 것이 가능함  \n",
    "\n",
    "VBA를 동작시키기 위해선 `.xlsm` 확장자 파일을 사용  \n",
    "VBA는 모듈이라는 개념이 있음\n",
    "\n",
    "### xlwings 설치\n",
    "```\n",
    "conda install xlwings\n",
    "xlwings addin install\n",
    "```\n",
    "\n",
    "### VBA 개발 환경 설정\n",
    "개발자 도구에 `xlwings` 설정 등\n",
    "\n",
    "### VBA에서 파이썬 코드 실행"
   ]
  },
  {
   "cell_type": "code",
   "execution_count": 4,
   "metadata": {},
   "outputs": [],
   "source": [
    "# .py 파일\n",
    "import xlwings\n",
    "\n",
    "def main():\n",
    "    # workbook 호출\n",
    "    wb = xlwings.Book.caller()\n",
    "    # sheet 설정\n",
    "    sheet = wb.sheets[0]\n",
    "\n",
    "    sheet[\"A1\"].value = \"xlwings 테스트 코드 작성\"\n",
    "    sheet[\"A2\"].value = \"파이썬 업무 자동화\"\n",
    "\n",
    "if __name__ ==\"__main__\":\n",
    "    xlwings.Book(\"./vba.xlsm\").set_mock_caller()\n",
    "    main()"
   ]
  },
  {
   "cell_type": "markdown",
   "metadata": {},
   "source": [
    "#### VBA에서 파이썬 코드 호출\n",
    "모듈에서 RunPython 사용\n",
    "```\n",
    "Sub test()\n",
    "    RunPython \"import py1;\"\n",
    "    RunPython \"py1.main()\"\n",
    "End Sub\n",
    "```\n",
    "\n",
    "#### 파이썬에서 VBA 코드 실행\n",
    "```\n",
    "Sub test()\n",
    "    Dim i As Integer\n",
    "    Dim sht As Worksheet\n",
    "\n",
    "    Set sht = Sheets(1)\n",
    "    With sht\n",
    "        For i = 1 To 10\n",
    "            .Cells(i, 1).Value = \"xlwings 테스트\" & i\n",
    "        Next i\n",
    "    End With\n",
    "End Sub\n",
    "```"
   ]
  },
  {
   "cell_type": "code",
   "execution_count": 5,
   "metadata": {},
   "outputs": [
    {
     "data": {
      "text/plain": [
       "<bound method Book.close of <Book [vba_test_result.xlsm]>>"
      ]
     },
     "execution_count": 5,
     "metadata": {},
     "output_type": "execute_result"
    }
   ],
   "source": [
    "import xlwings as xw\n",
    "\n",
    "wb = xw.Book(\"./vba.xlsm\")\n",
    "\n",
    "macro_test = wb.macro(\"test\") # VBA 모듈 이름\n",
    "\n",
    "macro_test()\n",
    "\n",
    "wb.save(\"./vba_test_result.xlsm\")\n",
    "wb.close"
   ]
  }
 ],
 "metadata": {
  "kernelspec": {
   "display_name": "Python 3.7.13 ('auto')",
   "language": "python",
   "name": "python3"
  },
  "language_info": {
   "codemirror_mode": {
    "name": "ipython",
    "version": 3
   },
   "file_extension": ".py",
   "mimetype": "text/x-python",
   "name": "python",
   "nbconvert_exporter": "python",
   "pygments_lexer": "ipython3",
   "version": "3.7.13"
  },
  "orig_nbformat": 4,
  "vscode": {
   "interpreter": {
    "hash": "dc50a67e814ec69e50f4baabb47540832735f761766bafdbd304f349916f94b2"
   }
  }
 },
 "nbformat": 4,
 "nbformat_minor": 2
}
