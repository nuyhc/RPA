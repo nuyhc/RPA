{
 "cells": [
  {
   "cell_type": "markdown",
   "metadata": {},
   "source": [
    "# Word문서 자동화 (python-docx)\n",
    "`win32com` 라이브러리도 워드를 다룰 수 있지만, 자료가 부족하고 윈도우 전용이라 호환성에서 문제가 있음\n",
    "\n",
    "### 문서 생성, 저장, 불러오기, 글자 입력"
   ]
  },
  {
   "cell_type": "code",
   "execution_count": 1,
   "metadata": {},
   "outputs": [],
   "source": [
    "# 기본적인 기능 (문서 열기, 저장, 글자 쓰기 등)\n",
    "from docx import Document\n",
    "# 문단 정렬\n",
    "from docx.enum.text import WD_ALIGN_PARAGRAPH\n",
    "# 문자 스타일 변경\n",
    "from docx.enum.style import WD_STYLE_TYPE"
   ]
  },
  {
   "cell_type": "code",
   "execution_count": 2,
   "metadata": {},
   "outputs": [],
   "source": [
    "# 새 워드 문서 만들기\n",
    "doc = Document()"
   ]
  },
  {
   "cell_type": "code",
   "execution_count": 5,
   "metadata": {},
   "outputs": [],
   "source": [
    "# 워드 문서 저장하기\n",
    "doc.save(\"저장하고 싶은 파일명.docx\") # 특정 위치에 저장하는 경우, 절대 경로 사용"
   ]
  },
  {
   "cell_type": "code",
   "execution_count": null,
   "metadata": {},
   "outputs": [],
   "source": [
    "# 저장된 워드문서 불러오기\n",
    "doc = Document(r\"절대경로\")"
   ]
  },
  {
   "cell_type": "markdown",
   "metadata": {},
   "source": [
    "#### 글자 입력하기\n",
    "##### 제목 넣기\n",
    "level 3 밑으로는 글자 크기가 더 작아지지는 않는 것 같음"
   ]
  },
  {
   "cell_type": "code",
   "execution_count": 4,
   "metadata": {},
   "outputs": [
    {
     "data": {
      "text/plain": [
       "<docx.text.paragraph.Paragraph at 0x1f12b2afec8>"
      ]
     },
     "execution_count": 4,
     "metadata": {},
     "output_type": "execute_result"
    }
   ],
   "source": [
    "doc.add_heading(\"가장 큰 제목 (아래에 밑줄)\", level=0)\n",
    "doc.add_heading(\"제목 크기, H1\", level=1)\n",
    "doc.add_heading(\"제목 크기, H2\", level=2)\n",
    "doc.add_heading(\"제목 크기, H3\", level=3)\n",
    "doc.add_heading(\"제목 크기, H4\", level=4)\n",
    "doc.add_heading(\"제목 크기, H5\", level=5)\n",
    "doc.add_heading(\"제목 크기, H6\", level=6)"
   ]
  },
  {
   "cell_type": "markdown",
   "metadata": {},
   "source": [
    "##### 문단(paragraph) 넣기\n",
    "엔터를 치지 않은 상태의 글"
   ]
  },
  {
   "cell_type": "code",
   "execution_count": 6,
   "metadata": {},
   "outputs": [
    {
     "data": {
      "text/plain": [
       "<docx.text.paragraph.Paragraph at 0x1f12ac09a88>"
      ]
     },
     "execution_count": 6,
     "metadata": {},
     "output_type": "execute_result"
    }
   ],
   "source": [
    "doc.add_paragraph(\"여기에 원하는 텍스트를 마음껏 입력하면 됩니다\")"
   ]
  },
  {
   "cell_type": "code",
   "execution_count": 7,
   "metadata": {},
   "outputs": [
    {
     "data": {
      "text/plain": [
       "<docx.text.paragraph.Paragraph at 0x1f12abdcdc8>"
      ]
     },
     "execution_count": 7,
     "metadata": {},
     "output_type": "execute_result"
    }
   ],
   "source": [
    "doc.add_paragraph(\"엔터를 치지 않은\\n문장이지만 개행문자를 넣으면?\") # 반영됨"
   ]
  },
  {
   "cell_type": "markdown",
   "metadata": {},
   "source": [
    "##### 문단에 문자 추가하기\n",
    "특정 문자를 강조하거나 다른 스타일을 주고 싶은 경우  \n",
    "`add_paragraph` 함수로 문단을 생성하고 내용을 적으면, 자동으로 하나의 `run` 객체가 문단에 포함되어 만들어짐"
   ]
  },
  {
   "cell_type": "code",
   "execution_count": 9,
   "metadata": {},
   "outputs": [],
   "source": [
    "p = doc.add_paragraph(\"두번째 문단: 여기에 원하는 텍스트를 마음껏 입력하면 됩니다.\")"
   ]
  },
  {
   "cell_type": "code",
   "execution_count": 10,
   "metadata": {},
   "outputs": [],
   "source": [
    "p.add_run(\"문단에 굵은 글자 추가\").bold = True\n",
    "p.add_run(\"문단에 이텔릭 글자 추가\").italic = True\n",
    "p.add_run(\"문단에 밑줄 글자 추가\").underline = True"
   ]
  },
  {
   "cell_type": "markdown",
   "metadata": {},
   "source": [
    "`add_run()` 함수는 반드시 `paragraph` 객체를 기반으로 사용"
   ]
  },
  {
   "cell_type": "markdown",
   "metadata": {},
   "source": [
    "### 이미지 삽입, 표 삽입"
   ]
  },
  {
   "cell_type": "code",
   "execution_count": 12,
   "metadata": {},
   "outputs": [],
   "source": [
    "# Cm와 Inch 단위를 사용하기 위한 모듈\n",
    "from docx.shared import Cm, Inches\n",
    "\n",
    "doc = Document()\n",
    "\n",
    "# 사진의 크기를 cm 단위로 설정해 삽입\n",
    "doc.add_picture(\"img.jpg\", width=Cm(16), height=Cm(9))\n",
    "# 사진의 크기를 inch 단위로 설정해 삽입\n",
    "doc.add_picture(\"img.jpg\", width=Inches(4), height=Inches(3))\n",
    "\n",
    "doc.save(\"이미지 삽입.docx\")"
   ]
  },
  {
   "cell_type": "markdown",
   "metadata": {},
   "source": [
    "표를 삽입하는 경우, 행과 열의 갯수를 설정해야 함"
   ]
  },
  {
   "cell_type": "code",
   "execution_count": 13,
   "metadata": {},
   "outputs": [],
   "source": [
    "doc = Document()\n",
    "\n",
    "# 2행 3열의 표\n",
    "tabel = doc.add_table(rows=2, cols=3)\n",
    "\n",
    "tabel.style = doc.styles[\"Table Grid\"]\n",
    "\n",
    "doc.save(\"표 삽입.docx\")"
   ]
  },
  {
   "cell_type": "code",
   "execution_count": 14,
   "metadata": {},
   "outputs": [],
   "source": [
    "# 각 셀에 내용 입력\n",
    "first_row = tabel.rows[0].cells\n",
    "\n",
    "# 첫 행의 각 열들에 접근해 값 입력\n",
    "first_row[0].text = \"a\"\n",
    "first_row[1].text = \"b\"\n",
    "first_row[2].text = \"c\"\n",
    "\n",
    "second_row = tabel.rows[1].cells\n",
    "second_row[0].text = \"d\"\n",
    "second_row[1].text = \"e\"\n",
    "second_row[2].text = \"f\"\n",
    "\n",
    "doc.save(\"표 삽입.docx\")"
   ]
  },
  {
   "cell_type": "code",
   "execution_count": 15,
   "metadata": {},
   "outputs": [],
   "source": [
    "# 행 추가\n",
    "row_cells = tabel.add_row().cells\n",
    "# 열 추가\n",
    "col_cells = tabel.add_column(width=Cm(2)).cells"
   ]
  },
  {
   "cell_type": "markdown",
   "metadata": {},
   "source": [
    "### 기존 문서 내용 읽기"
   ]
  },
  {
   "cell_type": "code",
   "execution_count": 19,
   "metadata": {},
   "outputs": [],
   "source": [
    "# 예제 문서 생성\n",
    "from docx import Document\n",
    "\n",
    "document = Document()\n",
    "\n",
    "document.add_heading('코딩유치원 python-docx 강의', level = 0)\n",
    "\n",
    "p = document.add_paragraph('안녕하세요, 코린이 여러분!')\n",
    "p.add_run(' 코딩유치원에 오신 것을 환영합니다.').bold = True\n",
    "\n",
    "document.add_paragraph('문장 추가 1')\n",
    "document.add_paragraph('문장 추가 2')\n",
    "document.add_paragraph('문장 추가 3')\n",
    "document.add_paragraph('문장 추가 4')\n",
    "\n",
    "records = (\n",
    "    (1, '하나', 'one'),\n",
    "    (2, '둘', 'two'),\n",
    "    (3, '셋', 'three')\n",
    ")\n",
    "\n",
    "table = document.add_table(rows=1, cols=3)\n",
    "\n",
    "# 만든 표의 스타일을 가장 기본 스타일인 'Table Grid'로 설정\n",
    "table.style = document.styles['Table Grid']\n",
    "\n",
    "hdr_cells = table.rows[0].cells\n",
    "hdr_cells[0].text = 'No'\n",
    "hdr_cells[1].text = '한국어'\n",
    "hdr_cells[2].text = '영어'\n",
    "for qty, id, desc in records:\n",
    "    row_cells = table.add_row().cells\n",
    "    row_cells[0].text = str(qty)\n",
    "    row_cells[1].text = id\n",
    "    row_cells[2].text = desc\n",
    "\n",
    "document.save('예제 문서.docx')"
   ]
  },
  {
   "cell_type": "markdown",
   "metadata": {},
   "source": [
    "#### paragrpah 인덱싱"
   ]
  },
  {
   "cell_type": "code",
   "execution_count": 20,
   "metadata": {},
   "outputs": [
    {
     "name": "stdout",
     "output_type": "stream",
     "text": [
      "1: 코딩유치원 python-docx 강의\n",
      "2: 안녕하세요, 코린이 여러분! 코딩유치원에 오신 것을 환영합니다.\n",
      "3: 문장 추가 1\n",
      "4: 문장 추가 2\n",
      "5: 문장 추가 3\n",
      "6: 문장 추가 4\n"
     ]
    }
   ],
   "source": [
    "doc = Document(\"예제 문서.docx\")\n",
    "\n",
    "for i, paragraph in enumerate(doc.paragraphs):\n",
    "    print(str(i+1)+\": \"+paragraph.text)"
   ]
  },
  {
   "cell_type": "code",
   "execution_count": 21,
   "metadata": {},
   "outputs": [
    {
     "data": {
      "text/plain": [
       "<docx.text.run.Run at 0x1f12ad0e808>"
      ]
     },
     "execution_count": 21,
     "metadata": {},
     "output_type": "execute_result"
    }
   ],
   "source": [
    "# 특정 문단에 글을 추가하는 경우\n",
    "p = doc.paragraphs[4]\n",
    "p.add_run(\"문단에 글자 추가\")"
   ]
  },
  {
   "cell_type": "code",
   "execution_count": 23,
   "metadata": {},
   "outputs": [
    {
     "data": {
      "text/plain": [
       "<docx.text.paragraph.Paragraph at 0x1f12ad4bd08>"
      ]
     },
     "execution_count": 23,
     "metadata": {},
     "output_type": "execute_result"
    }
   ],
   "source": [
    "# 문단 중간에 새로운 문단을 추가\n",
    "doc.paragraphs[3].insert_paragraph_before(\"문장을 삽입\")"
   ]
  },
  {
   "cell_type": "markdown",
   "metadata": {},
   "source": [
    "#### table 인덱싱"
   ]
  },
  {
   "cell_type": "code",
   "execution_count": 26,
   "metadata": {},
   "outputs": [
    {
     "data": {
      "text/plain": [
       "'No'"
      ]
     },
     "execution_count": 26,
     "metadata": {},
     "output_type": "execute_result"
    }
   ],
   "source": [
    "# 표의 특정 셀의 값 읽는 방법\n",
    "tabels = doc.tables\n",
    "\n",
    "tabels[0].rows[0].cells[0].paragraphs[0].text"
   ]
  },
  {
   "cell_type": "code",
   "execution_count": 35,
   "metadata": {},
   "outputs": [
    {
     "name": "stdout",
     "output_type": "stream",
     "text": [
      "No\n",
      "한국어\n",
      "영어\n",
      "1\n",
      "하나\n",
      "one\n",
      "2\n",
      "둘\n",
      "two\n",
      "3\n",
      "셋\n",
      "three\n"
     ]
    }
   ],
   "source": [
    "# 표의 모든 값에 접근하는 방법\n",
    "tabel = doc.tables[0]\n",
    "\n",
    "for row in table.rows:\n",
    "    for cell in row.cells:\n",
    "        for para in cell.paragraphs:\n",
    "            print(para.text)"
   ]
  },
  {
   "cell_type": "markdown",
   "metadata": {},
   "source": [
    "### 글자 폰트, 크기, 색깔 변경\n",
    "#### 폰트"
   ]
  },
  {
   "cell_type": "code",
   "execution_count": 36,
   "metadata": {},
   "outputs": [],
   "source": [
    "doc = Document()\n",
    "# 스타일 적용하기\n",
    "style = doc.styles[\"Normal\"]\n",
    "font = style.font\n",
    "font.name = \"Arial\"\n",
    "\n",
    "para = doc.add_paragraph(\"Some text\\n\")"
   ]
  },
  {
   "cell_type": "code",
   "execution_count": 37,
   "metadata": {},
   "outputs": [],
   "source": [
    "# 문단 입력 후 스타일 적용\n",
    "para.add_run(\"코딩 유치원에 오신 것을 환영합니다.\").bold = True\n",
    "\n",
    "run = doc.paragraphs[0].runs[0]\n",
    "run.font.name = \"Arial\""
   ]
  },
  {
   "cell_type": "markdown",
   "metadata": {},
   "source": [
    "한글은 위와 같은 방식으로 적용이 되지 않음"
   ]
  },
  {
   "cell_type": "code",
   "execution_count": 40,
   "metadata": {},
   "outputs": [],
   "source": [
    "doc = Document(\"test.docx\")\n",
    "\n",
    "from docx.oxml.ns import qn\n",
    "from docx.shared import Pt # size 설정\n",
    "\n",
    "style = doc.styles[\"Normal\"]\n",
    "style._element.rPr.rFonts.set(qn(\"w:eastAsia\"), \"맑은 고딕\")\n",
    "style.font.name = \"맑은 고딕\"\n",
    "style.font.size = Pt(8)\n",
    "\n",
    "para = doc.add_paragraph(\"맑은 고딕체 테스트\")"
   ]
  },
  {
   "cell_type": "markdown",
   "metadata": {},
   "source": [
    "#### 색깔"
   ]
  },
  {
   "cell_type": "code",
   "execution_count": 42,
   "metadata": {},
   "outputs": [],
   "source": [
    "from docx.shared import RGBColor\n",
    "\n",
    "para = doc.add_paragraph(\"글자 색깔을 바꿔봅시다\")\n",
    "run = para.runs[0]\n",
    "font = run.font\n",
    "\n",
    "# RGB 컬러를 각각 16진수로 표현\n",
    "font.color.rgb = RGBColor(0xFF, 0x24, 0xE9)"
   ]
  },
  {
   "cell_type": "markdown",
   "metadata": {},
   "source": [
    "### 문단 정렬, 표 셀 정렬"
   ]
  },
  {
   "cell_type": "code",
   "execution_count": 47,
   "metadata": {},
   "outputs": [],
   "source": [
    "from docx import Document\n",
    "from docx.enum.text import WD_ALIGN_PARAGRAPH\n",
    "\n",
    "document = Document('예제 문서.docx')\n",
    "\n",
    "# 왼쪽 정렬\n",
    "paragraph1 = document.paragraphs[1]\n",
    "paragraph1.alignment = WD_ALIGN_PARAGRAPH.LEFT\n",
    "\n",
    "# 가운데 정렬\n",
    "paragraph2 = document.paragraphs[2]\n",
    "paragraph2.alignment = WD_ALIGN_PARAGRAPH.CENTER\n",
    "\n",
    "# 오른쪽 정렬\n",
    "paragraph3 = document.paragraphs[3]\n",
    "paragraph3.alignment = WD_ALIGN_PARAGRAPH.RIGHT\n",
    "\n",
    "# 양쪽 정렬\n",
    "paragraph4 = document.paragraphs[4]\n",
    "paragraph4.alignment = WD_ALIGN_PARAGRAPH.JUSTIFY\n",
    "\n",
    "# 텍스트 배분 (글자를 흩어서 배치)\n",
    "paragraph_last = document.paragraphs[-1]  # 마지막 문단\n",
    "paragraph_last.alignment = WD_ALIGN_PARAGRAPH.DISTRIBUTE\n",
    "\n",
    "# 현재 작업경로에 저장\n",
    "document.save('예제 문서.docx')"
   ]
  },
  {
   "cell_type": "markdown",
   "metadata": {},
   "source": [
    "#### 셀 정렬"
   ]
  },
  {
   "cell_type": "code",
   "execution_count": 48,
   "metadata": {},
   "outputs": [],
   "source": [
    "# 수평 정렬\n",
    "from docx.enum.table import WD_TABLE_ALIGNMENT\n",
    "\n",
    "document = Document('예제 문서.docx')\n",
    "\n",
    "# LEFT : 왼쪽 정렬, CENTER: 가운데 정렬, RIGHT: 오른쪽 정렬\n",
    "document.tables[0].rows[0].cells[0].paragraphs[0].alignment = WD_TABLE_ALIGNMENT.LEFT\n",
    "document.tables[0].rows[0].cells[1].paragraphs[0].alignment = WD_TABLE_ALIGNMENT.CENTER\n",
    "document.tables[0].rows[0].cells[2].paragraphs[0].alignment = WD_TABLE_ALIGNMENT.RIGHT\n",
    "\n",
    "# 현재 작업경로에 저장\n",
    "document.save('예제 문서.docx')"
   ]
  },
  {
   "cell_type": "code",
   "execution_count": 49,
   "metadata": {},
   "outputs": [],
   "source": [
    "# 수직 정렬\n",
    "from docx.enum.table import WD_CELL_VERTICAL_ALIGNMENT\n",
    "\n",
    "document = Document('예제 문서.docx')\n",
    "\n",
    "# LEFT : 위쪽 정렬, CENTER: 가운데 정렬, RIGHT: 아래쪽 정렬\n",
    "document.tables[0].rows[0].cells[0].vertical_alignment = WD_CELL_VERTICAL_ALIGNMENT.TOP\n",
    "document.tables[0].rows[0].cells[1].vertical_alignment = WD_CELL_VERTICAL_ALIGNMENT.CENTER\n",
    "document.tables[0].rows[0].cells[2].vertical_alignment = WD_CELL_VERTICAL_ALIGNMENT.BOTTOM\n",
    "\n",
    "# 현재 작업경로에 저장\n",
    "document.save('예제 문서.docx')"
   ]
  }
 ],
 "metadata": {
  "kernelspec": {
   "display_name": "Python 3.7.13 ('auto')",
   "language": "python",
   "name": "python3"
  },
  "language_info": {
   "codemirror_mode": {
    "name": "ipython",
    "version": 3
   },
   "file_extension": ".py",
   "mimetype": "text/x-python",
   "name": "python",
   "nbconvert_exporter": "python",
   "pygments_lexer": "ipython3",
   "version": "3.7.13"
  },
  "orig_nbformat": 4,
  "vscode": {
   "interpreter": {
    "hash": "dc50a67e814ec69e50f4baabb47540832735f761766bafdbd304f349916f94b2"
   }
  }
 },
 "nbformat": 4,
 "nbformat_minor": 2
}
