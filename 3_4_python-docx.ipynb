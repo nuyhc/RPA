{
 "cells": [
  {
   "cell_type": "markdown",
   "metadata": {},
   "source": [
    "# Word문서 자동화 (python-docx)\n",
    "`win32com` 라이브러리도 워드를 다룰 수 있지만, 자료가 부족하고 윈도우 전용이라 호환성에서 문제가 있음\n",
    "\n",
    "### 문서 생성, 저장, 불러오기, 글자 입력"
   ]
  },
  {
   "cell_type": "markdown",
   "metadata": {},
   "source": [
    "### 이미지 삽입, 표 삽입"
   ]
  },
  {
   "cell_type": "markdown",
   "metadata": {},
   "source": [
    "### 기존 문서 내용 읽기"
   ]
  },
  {
   "cell_type": "markdown",
   "metadata": {},
   "source": [
    "### 글자 폰트, 크기, 색깔 변경"
   ]
  },
  {
   "cell_type": "markdown",
   "metadata": {},
   "source": [
    "### 문단 정렬, 표 셀 정렬"
   ]
  }
 ],
 "metadata": {
  "language_info": {
   "name": "python"
  },
  "orig_nbformat": 4
 },
 "nbformat": 4,
 "nbformat_minor": 2
}
