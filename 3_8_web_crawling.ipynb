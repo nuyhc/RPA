{
 "cells": [
  {
   "cell_type": "markdown",
   "metadata": {},
   "source": [
    "# 웹 크롤링\n",
    "- 인터넷 : 컴퓨터 네트워크 통신망\n",
    "- 웹 : 인터넷 상에서 동작하는 하나의 서비스\n",
    "\n",
    "\n",
    "\n",
    "웹 브라우저(Web Browser)는 HTML로 작성되어 있음\n",
    "\n",
    "#### 웹 크롤링과 웹 스크래핑\n",
    "- 크롤링 -> 모든것을 긁어 오는 것\n",
    "- 스크래핑 -> 원하는 부분만 선택적으로 추려내는 것"
   ]
  },
  {
   "cell_type": "markdown",
   "metadata": {},
   "source": [
    "### HTML/CSS\n",
    "어떤 웹사이트를 만나던 어떤 종류의 자료든 크롤링 할 수 있으려면, HTML과 CSS에 대한 개념을 이해할 필요가 있음\n",
    "#### HTML 구조\n",
    "태그로 감싸진 속성과 내용들의 모음  \n",
    "![png](https://blog.kakaocdn.net/dn/cgAqnI/btq08uOFu49/KmhFDOWzwIZwlSh6zCFmj1/img.png)  \n",
    "태그는 종류가 다양하며, 각 태그마다 의미하는 바가 다름  \n",
    "\n",
    "| 태그 | 설명 | 사용 예 |\n",
    "| --- | --- | --- |\n",
    "| h1~h6 | 제목 | `<h1> 제일 큰 제목 </h1>` |\n",
    "| p | 하나의 문장을 입력할 때 사용 | `<P> 문장 </p>` |\n",
    "| div | 박스형태의 구역 설정(block 요소), 다른 태그들이 div 안에 모여있게 됨 | ```<div> <h3> 제목 </h3> <p> 문장 </p> </div>``` |\n",
    "| span | 줄 형태의 구역 설정(inline 요소), 독립적으로 사용하지 않고 p태그 안에 span 태그가 들어감 | ```<p> 이렇게 <span style=\"border:3px solid red\"> span요소로 텍스트의 일부분 </span>만 스타일을 적용할 수 있음 </p>``` |\n",
    "| img | 이미지와 관련된 태그(속성명은 src, 속성값은 \"이미지의 url 주소\"), 종료 태그(/img)가 없는 빈 태그(empty tag) | ```<img src=\"/img 주소.png\" alt=\"이미지가 없을 때 이미지 대신 출력할 문장 입력\">``` |\n",
    "| a | 하이퍼링크를 추가할 때 사용 | ```<a href=\"링크주소\">HTML 링크</a>``` |\n",
    "| ul | unordered list : 기호로 된 리스트, li 태그가 하위 태그로 사용되어 내용을 채움 | ```<ul> <li>기호</li> <li>기호</li> </ul>``` |\n",
    "| ol | ordered list : 순서가 있는 리스트, li 태그가 하위 태그로 사용되어 내용을 채움 | ```<ol> <li>1번</li> <li>2번</li> </ol>``` |\n",
    "\n",
    "html은 수 많은 태그로 이루어져 있어서 *동일한 태그가 무수히 많이 사용*  \n",
    "-> *각 태그들을 구부해주기 위해서 속성을 부여*  \n",
    "-> 각 태그별로 속성이 다양하지만, 꼭 기억해야할 속성은 2가지 (id와 class)\n",
    "- ID : 하나의 웹페이지에 *하나만 쓸 수 있는 고유한 이름*으로 `<태그이름 id=\"속성값\">`와 같이 쓰임\n",
    "- CLASS : 비슷한 형태를 가진 요소에 *여러번 사용할 수 있는 이름*으로 `<태그이름 class=\"속성값\">`와 같이 쓰임  \n",
    "\n",
    "속성값과 내용은 프로그래머가 정해주기 나름"
   ]
  },
  {
   "cell_type": "markdown",
   "metadata": {},
   "source": [
    "#### CSS 구조\n",
    "CSS는 HTML로 만들어진 밋밋한 화면을 예쁘게 꾸며주는 역할  \n",
    "-> 특정 태그를 지목해서 속성값(글자색, 크기, 폰트, 배경색 등등)을 넣어 주는 것  \n",
    "-> CSS가 특정 태그를 지목하는 방식을 알게되면 원하는 데이터를 감싸고 있는 태그를 지목해서 그 안의 데이터를 가져올 수 있음\n",
    "\n",
    "##### CSS Selector\n",
    "CSS 코드는 선택자(selector)와 선언부(declaratives)로 구성  \n",
    "| 분류 | 설명 | 예 |\n",
    "| --- | --- | --- |\n",
    "| 태그 선택 | 특정 태그를 선택 | div -> `<div>` 태그를 선택 |\n",
    "| 아이디 선택 | id=\"속성값\"인 태그를 선택 | #query -> id의 속성값이 query인 태그 선택 |\n",
    "| 클래스 선택 | class=\"속성값\"인 태그를 선택 | .title -> class의 속성값이 title인 태그 선택 |\n",
    "| 태그+아이디 선택 | 특정 태그 중 id가 \"속성값\"인 태그를 선택 | input#query -> input 태그 중, id의 속성값이 query인 태그 선택 |\n",
    "| 태그+클래스 선택 | 특정 태그 중 class가 \"속성값\"인 태그를 선택 | p.title -> p 태그 중, class의 속성값이 title인 태그 선택 |"
   ]
  },
  {
   "cell_type": "markdown",
   "metadata": {},
   "source": [
    "### 동적/정적 웹 페이지\n",
    "웹 크롤링을 하면서 만나게 되는 페이지는 크게 두 가지로 분류 가능  \n",
    "1. 정지해있다는 의미의 정적(static)\n",
    "2. 움직인다는 의미의 동적(dynamic)\n",
    "\n",
    "이 두 가지의 차이점에 대한 이해가 선행되지 않으면 코드가 제대로 작동되지 않을 수 있음  \n",
    "\n",
    "#### 정적 웹 페이지\n",
    "서버에 미리 저장된 파일이 그대로 전달되는 웹 페이지  \n",
    "-> 특정 웹 페이지의 url 주소만 주소창에 입력하면 웹 브라우저로 HTML 정보를 마음대로 가져다 쓸 수 있는 것  \n",
    "-> *url* 주소 외에는 아무것도 필요없다라는 장점  \n",
    "-> 스크롤을 내렸는데, url이 변경되지 않고 페이지에 내용이 추가되는 경우\n",
    "\n",
    "#### 동적 웹 페이지\n",
    "url만으로는 들어갈 수 없는 웹페이지  \n",
    "-> url의 변화가 없는데도 실시간으로 내용이 계속해서 추가되거나 수정되는 경우  \n",
    "-> 무언가를 클릭해서 페이지가 변경되는 것은 다른 경우\n",
    "\n",
    "#### 동적/정적 수집\n",
    "정적 페이지에서 정보를 수집 하느냐, 동적 페이지에서 수집 하느냐에 따라서 사용되는 라이브러리가 달라짐  \n",
    "\n",
    "| | 정적 수집 | 동적 수집 |\n",
    "| :---: | :---: | :---: |\n",
    "| 사용 패키지 | requests/urlib | selenium |\n",
    "| 수집 커버리지 | 정적 웹 페이지 | 정적/동적 웹 페이지 |\n",
    "| 수집 속도 | 빠름(별도 페이지 조작 필요 x) | 상대적으로 느림 |\n",
    "| 파싱 패키지 | beautifulsoup | beautifulsoup/selenium |"
   ]
  },
  {
   "cell_type": "markdown",
   "metadata": {},
   "source": [
    "### 정적 웹크롤링 - requests / bs4"
   ]
  },
  {
   "cell_type": "code",
   "execution_count": null,
   "metadata": {},
   "outputs": [],
   "source": [
    "pass"
   ]
  },
  {
   "cell_type": "markdown",
   "metadata": {},
   "source": [
    "### 정적 웹크롤링 - 텍스트, 하이퍼링크, 이미지 가져오기"
   ]
  },
  {
   "cell_type": "code",
   "execution_count": null,
   "metadata": {},
   "outputs": [],
   "source": [
    "pass"
   ]
  },
  {
   "cell_type": "markdown",
   "metadata": {},
   "source": [
    "### 동적 웹크롤링 - selenium 소개 및 기초 사용법\n",
    "selenium 패키지는, 각 브라우저에 맞는 드라이버를 이용해 제어  \n",
    "크롤링을 하다보면 무엇인가 입력하거나 특정 버튼을 눌러야하는 상황이 발생하는데, 이런 행동을 처리해주는 라이브러리"
   ]
  },
  {
   "cell_type": "code",
   "execution_count": null,
   "metadata": {},
   "outputs": [],
   "source": []
  },
  {
   "cell_type": "markdown",
   "metadata": {},
   "source": [
    "### 동적 웹크롤링 - selenium으로 화면 조작하기"
   ]
  },
  {
   "cell_type": "markdown",
   "metadata": {},
   "source": [
    "### 동적 웹크롤링 - 텍스트, 하이퍼링크, 이미지 가져오기"
   ]
  }
 ],
 "metadata": {
  "kernelspec": {
   "display_name": "Python 3.8.13 ('Deep')",
   "language": "python",
   "name": "python3"
  },
  "language_info": {
   "name": "python",
   "version": "3.8.13"
  },
  "orig_nbformat": 4,
  "vscode": {
   "interpreter": {
    "hash": "2687cd7e348f8b276a3d3877a91949627292e389c8a2a645f881205e3ac80541"
   }
  }
 },
 "nbformat": 4,
 "nbformat_minor": 2
}
